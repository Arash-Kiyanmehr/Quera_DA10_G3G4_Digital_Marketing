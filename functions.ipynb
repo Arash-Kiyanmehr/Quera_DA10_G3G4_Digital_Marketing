{
 "cells": [
  {
   "cell_type": "markdown",
   "id": "405f7469",
   "metadata": {},
   "source": [
    "<H1>Univariate"
   ]
  },
  {
   "cell_type": "code",
   "execution_count": null,
   "id": "509c9110",
   "metadata": {},
   "outputs": [],
   "source": [
    "#Add functions for Univariate analysis"
   ]
  },
  {
   "cell_type": "markdown",
   "id": "d19c04b5",
   "metadata": {},
   "source": [
    "<H1>Bivariate"
   ]
  },
  {
   "cell_type": "code",
   "execution_count": 1,
   "id": "aae67b72",
   "metadata": {},
   "outputs": [],
   "source": [
    "#Add functions for Bivariate analysis"
   ]
  },
  {
   "cell_type": "code",
   "execution_count": null,
   "id": "6045019a",
   "metadata": {},
   "outputs": [],
   "source": []
  }
 ],
 "metadata": {
  "kernelspec": {
   "display_name": "QBX",
   "language": "python",
   "name": "python3"
  },
  "language_info": {
   "codemirror_mode": {
    "name": "ipython",
    "version": 3
   },
   "file_extension": ".py",
   "mimetype": "text/x-python",
   "name": "python",
   "nbconvert_exporter": "python",
   "pygments_lexer": "ipython3",
   "version": "3.9.23"
  }
 },
 "nbformat": 4,
 "nbformat_minor": 5
}
