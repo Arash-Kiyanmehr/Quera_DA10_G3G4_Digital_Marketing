{
  "cells": [
    {
      "cell_type": "code",
      "execution_count": 1,
      "id": "ac65b58f",
      "metadata": {
        "id": "ac65b58f"
      },
      "outputs": [],
      "source": [
        "import pandas as pd\n",
        "import numpy as np\n",
        "import matplotlib.pyplot as plt\n",
        "import seaborn as sns\n",
        "import plotly.express as px\n",
        "import scipy.stats as stats\n",
        "from itertools import combinations\n",
        "import json\n",
        "import warnings\n",
        "\n",
        "warnings.filterwarnings('ignore')\n",
        "sns.set_theme(style=\"darkgrid\")"
      ]
    },
    {
      "cell_type": "code",
      "execution_count": 2,
      "id": "uIqKiV5MM20-",
      "metadata": {
        "colab": {
          "base_uri": "https://localhost:8080/"
        },
        "id": "uIqKiV5MM20-",
        "outputId": "ff794c20-9716-4c72-bab2-39e280d398b8"
      },
      "outputs": [
        {
          "name": "stdout",
          "output_type": "stream",
          "text": [
            "Mounted at /content/drive\n"
          ]
        }
      ],
      "source": [
        "from google.colab import drive\n",
        "drive.mount('/content/drive')"
      ]
    },
    {
      "cell_type": "code",
      "execution_count": 3,
      "id": "4ac17472",
      "metadata": {
        "id": "4ac17472"
      },
      "outputs": [],
      "source": [
        "df = pd.read_csv('/content/drive/MyDrive/initial/notebook/marketing.csv')"
      ]
    },
    {
      "cell_type": "code",
      "execution_count": 4,
      "id": "72bf7e0a",
      "metadata": {
        "colab": {
          "base_uri": "https://localhost:8080/"
        },
        "id": "72bf7e0a",
        "outputId": "a2ca2867-f1d0-49b0-9607-3db221d3b32b"
      },
      "outputs": [
        {
          "name": "stdout",
          "output_type": "stream",
          "text": [
            "<class 'pandas.core.frame.DataFrame'>\n",
            "RangeIndex: 2010 entries, 0 to 2009\n",
            "Data columns (total 20 columns):\n",
            " #   Column               Non-Null Count  Dtype  \n",
            "---  ------               --------------  -----  \n",
            " 0   CustomerID           2010 non-null   int64  \n",
            " 1   Age                  2010 non-null   int64  \n",
            " 2   Gender               2010 non-null   object \n",
            " 3   Income               1931 non-null   float64\n",
            " 4   CampaignChannel      1856 non-null   object \n",
            " 5   CampaignType         2010 non-null   object \n",
            " 6   AdSpend              2010 non-null   object \n",
            " 7   ClickThroughRate     2010 non-null   float64\n",
            " 8   ConversionRate       2010 non-null   float64\n",
            " 9   WebsiteVisits        2010 non-null   int64  \n",
            " 10  PagesPerVisit        2010 non-null   float64\n",
            " 11  TimeOnSite           1931 non-null   float64\n",
            " 12  SocialShares         2010 non-null   int64  \n",
            " 13  EmailOpens           2010 non-null   int64  \n",
            " 14  EmailClicks          2010 non-null   int64  \n",
            " 15  PreviousPurchases    2010 non-null   int64  \n",
            " 16  LoyaltyPoints        2010 non-null   int64  \n",
            " 17  AdvertisingPlatform  2010 non-null   object \n",
            " 18  AdvertisingTool      2010 non-null   object \n",
            " 19  Conversion           2010 non-null   int64  \n",
            "dtypes: float64(5), int64(9), object(6)\n",
            "memory usage: 314.2+ KB\n"
          ]
        }
      ],
      "source": [
        "df.info()"
      ]
    },
    {
      "cell_type": "markdown",
      "id": "1WmPOSPmm3ah",
      "metadata": {
        "id": "1WmPOSPmm3ah"
      },
      "source": [
        "<H1>Statistics"
      ]
    },
    {
      "cell_type": "code",
      "execution_count": 1,
      "id": "VU0sqZqPu1gJ",
      "metadata": {
        "id": "VU0sqZqPu1gJ"
      },
      "outputs": [],
      "source": [
        "def categorical_tests(test_type=\"vs-target\", data=None, column=None, target=None, alpha=0.05):\n",
        "\n",
        "    if test_type == \"vs-target\":\n",
        "        con_table = pd.crosstab(data[column], data[target])\n",
        "        stat, p_value, degree, _ = stats.chi2_contingency(con_table)\n",
        "         if p_value < alpha:\n",
        "             print(f"Significant difference between '{column}' and '{target}': \nChi2={chi2:.4f}, p-value={p_value:.4f}")\n",
        "         else:\n",
        "             print(f"No significant difference between '{column}' and '{target}': \nChi2={chi2:.4f}, p-value={p_value:.4f}")\n",
        "        result = {\n",
        "            \"categories vs target\":test_type, \"chi2_stat\": stat, \"p_value\": p_value,\n",
        "            \"degrees_of_freedom\": degree,\n",
        "            \"contingency_table\": con_table.to_dict()\n",
        "        }\n",
        "        print('='*48)\n",
        "        print(json.dumps(result, indent=3, sort_keys=False, default=str)) # using json.dumps for prettier printing\n",
        "        print('='*40)\n",
        "\n",
        "    elif test_type == \"vs-categories\":\n",
        "        categories = df[column].unique()\n",
        "        category_pairs = list(combinations(categories, 2))\n",
        "        result = []\n",
        "        for group1, group2 in category_pairs:\n",
        "            subset = df[df[column].isin([group1, group2])]\n",
        "            contingency_table = pd.crosstab(subset[column], subset[target])\n",
        "            chi2, p_value, degree, _ = stats.chi2_contingency(contingency_table)\n",
        "\n",
        "        if p_value < alpha:\n",
        "            print(f\"Significant difference between '{group1}' and '{group2}': \\nChi2={chi2:.4f}, p-value={p_value:.4f}\")\n",
        "        else:\n",
        "            print(f\"No significant difference between '{group1}' and '{group2}': \\nChi2={chi2:.4f}, p-value={p_value:.4f}\")\n"
      ]
    },
    {
      "cell_type": "code",
      "execution_count": null,
      "id": "sJLtvfkxYFvt",
      "metadata": {
        "id": "sJLtvfkxYFvt"
      },
      "outputs": [],
      "source": [
        "categorical_tests('vs-categories', data=df, column='AdSpend', target='Conversion')"
      ]
    },
    {
      "cell_type": "code",
      "execution_count": null,
      "id": "5hAdyCK9X_aU",
      "metadata": {
        "id": "5hAdyCK9X_aU"
      },
      "outputs": [],
      "source": [
        "categorical_tests('vs-target', data=df, column='AdSpend', target='Conversion')"
      ]
    }
  ],
  "metadata": {
    "accelerator": "GPU",
    "colab": {
      "gpuType": "T4",
      "provenance": []
    },
    "kernelspec": {
      "display_name": "QBX",
      "language": "python",
      "name": "python3"
    },
    "language_info": {
      "codemirror_mode": {
        "name": "ipython",
        "version": 3
      },
      "file_extension": ".py",
      "mimetype": "text/x-python",
      "name": "python",
      "nbconvert_exporter": "python",
      "pygments_lexer": "ipython3",
      "version": "3.9.23"
    }
  },
  "nbformat": 4,
  "nbformat_minor": 5
}
