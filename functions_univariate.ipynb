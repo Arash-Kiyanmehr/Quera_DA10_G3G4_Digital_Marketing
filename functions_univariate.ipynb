{
 "cells": [
  {
   "cell_type": "code",
   "execution_count": 4,
   "id": "ac65b58f",
   "metadata": {},
   "outputs": [],
   "source": [
    "import pandas as pd\n",
    "import numpy as np\n",
    "import matplotlib.pyplot as plt\n",
    "import seaborn as sns\n",
    "import plotly.express as px\n",
    "import scipy.stats as stats\n",
    "import warnings\n",
    "\n",
    "warnings.filterwarnings('ignore')\n",
    "sns.set_style(\"whitegrid\")"
   ]
  },
  {
   "cell_type": "code",
   "execution_count": 5,
   "id": "4ac17472",
   "metadata": {},
   "outputs": [],
   "source": [
    "df = pd.read_csv('marketing.csv')"
   ]
  },
  {
   "cell_type": "code",
   "execution_count": 6,
   "id": "72bf7e0a",
   "metadata": {},
   "outputs": [
    {
     "name": "stdout",
     "output_type": "stream",
     "text": [
      "<class 'pandas.core.frame.DataFrame'>\n",
      "RangeIndex: 2010 entries, 0 to 2009\n",
      "Data columns (total 20 columns):\n",
      " #   Column               Non-Null Count  Dtype  \n",
      "---  ------               --------------  -----  \n",
      " 0   CustomerID           2010 non-null   int64  \n",
      " 1   Age                  2010 non-null   int64  \n",
      " 2   Gender               2010 non-null   object \n",
      " 3   Income               1931 non-null   float64\n",
      " 4   CampaignChannel      1856 non-null   object \n",
      " 5   CampaignType         2010 non-null   object \n",
      " 6   AdSpend              2010 non-null   object \n",
      " 7   ClickThroughRate     2010 non-null   float64\n",
      " 8   ConversionRate       2010 non-null   float64\n",
      " 9   WebsiteVisits        2010 non-null   int64  \n",
      " 10  PagesPerVisit        2010 non-null   float64\n",
      " 11  TimeOnSite           1931 non-null   float64\n",
      " 12  SocialShares         2010 non-null   int64  \n",
      " 13  EmailOpens           2010 non-null   int64  \n",
      " 14  EmailClicks          2010 non-null   int64  \n",
      " 15  PreviousPurchases    2010 non-null   int64  \n",
      " 16  LoyaltyPoints        2010 non-null   int64  \n",
      " 17  AdvertisingPlatform  2010 non-null   object \n",
      " 18  AdvertisingTool      2010 non-null   object \n",
      " 19  Conversion           2010 non-null   int64  \n",
      "dtypes: float64(5), int64(9), object(6)\n",
      "memory usage: 314.2+ KB\n"
     ]
    }
   ],
   "source": [
    "df.info()"
   ]
  },
  {
   "cell_type": "code",
   "execution_count": 7,
   "id": "c1e85725",
   "metadata": {},
   "outputs": [
    {
     "data": {
      "text/plain": [
       "CustomerID               0\n",
       "Age                      0\n",
       "Gender                   0\n",
       "Income                  79\n",
       "CampaignChannel        154\n",
       "CampaignType             0\n",
       "AdSpend                  0\n",
       "ClickThroughRate         0\n",
       "ConversionRate           0\n",
       "WebsiteVisits            0\n",
       "PagesPerVisit            0\n",
       "TimeOnSite              79\n",
       "SocialShares             0\n",
       "EmailOpens               0\n",
       "EmailClicks              0\n",
       "PreviousPurchases        0\n",
       "LoyaltyPoints            0\n",
       "AdvertisingPlatform      0\n",
       "AdvertisingTool          0\n",
       "Conversion               0\n",
       "dtype: int64"
      ]
     },
     "execution_count": 7,
     "metadata": {},
     "output_type": "execute_result"
    }
   ],
   "source": [
    "df.isna().sum()"
   ]
  },
  {
   "cell_type": "markdown",
   "id": "405f7469",
   "metadata": {},
   "source": [
    "<H1>Univariate"
   ]
  },
  {
   "cell_type": "code",
   "execution_count": 8,
   "id": "509c9110",
   "metadata": {},
   "outputs": [],
   "source": [
    "#Add functions for Univariate analysis\n",
    "def describe_numerical_col(df, col_name):\n",
    "    info = df[[col_name]].describe().to_dict()[col_name]\n",
    "    info['shapiro'] = f'{stats.shapiro(df[col_name])[1]: .5f}'\n",
    "    info['normal'] = float(info['shapiro']) > 0.05\n",
    "    info['missing'] = df[col_name].isna().sum()\n",
    "    info['skew'] = f'{stats.skew(df[col_name]):.5f}'\n",
    "    info['type'] = ('slight ' if info['normal'] else '') +\\\n",
    "        ('right(positive)' if float(info['skew']) > 0 else 'left(negative)') + '-skew'\n",
    "\n",
    "    fig, ax = plt.subplots(2, 2, figsize=(16, 7), gridspec_kw={'height_ratios':(.85, .15)})\n",
    "    sns.histplot(df[col_name], kde=True, ax=ax[0, 0], color='#55A868')\n",
    "    sns.boxplot(df[col_name], orient='h', ax=ax[1, 0], color=\"#5583A8\")\n",
    "    counts, bin_edges = np.histogram(df[col_name], bins=10, density = True)\n",
    "    pdf = counts / (sum(counts))\n",
    "    cdf = np.cumsum(pdf)\n",
    "    ax[1, 1] = plt.subplot(122)\n",
    "    plt.plot(bin_edges[1:], pdf, label='PDF')\n",
    "    plt.plot(bin_edges[1:], cdf, label='CDF')\n",
    "    plt.legend()\n",
    "    ax[0, 0].set_xticklabels([])\n",
    "    ax[1, 0].set_yticklabels([])\n",
    "    ax[0, 0].set_xlabel('')\n",
    "    ax[0, 0].set_ylabel('Count')\n",
    "    fig.suptitle(col_name, fontsize=30)\n",
    "    plt.xticks(rotation=45)\n",
    "    plt.tight_layout()\n",
    "    plt.show()\n",
    "    \n",
    "    info_df = pd.DataFrame.from_dict(info, orient='index', columns=[''])\n",
    "    print('='*18 + ' ' +col_name + ' ' + '='*18)\n",
    "    print(info_df)\n",
    "    print('='*40)\n",
    "    \n",
    "def categorize_numerical_col(col_name, bins, bins_name):\n",
    "    new_col = f'{col_name}_categorized'\n",
    "    df[new_col] = pd.cut(df[col_name], bins=bins, labels=bins_name)\n",
    "\n",
    "def describe_categorical_col(df, col_name):\n",
    "    counts = pd.DataFrame(df[col_name].value_counts()).reset_index()\n",
    "    counts.columns = ['Group', 'Count']\n",
    "    total = sum(counts['Count'])\n",
    "    counts['%'] = (counts['Count'] / total * 100).round(2)\n",
    "\n",
    "    fig = px.pie(\n",
    "        counts,\n",
    "        names='Group',\n",
    "        values='Count',\n",
    "        title=f'<b>Distribution of {col_name} in each group</b>',\n",
    "        color='Group',\n",
    "        hole=0.3\n",
    "    )\n",
    "\n",
    "    fig.update_traces(\n",
    "        textposition='inside',\n",
    "        textinfo='percent+label',\n",
    "\n",
    "    )\n",
    "\n",
    "    fig.update_layout(\n",
    "        title_x=0.5,\n",
    "        legend_title_text='Groups',\n",
    "        font=dict(family=\"Arial, sans-serif\", size=14)\n",
    "    )\n",
    "    fig.show()\n",
    "    print('='*18 + ' ' +col_name + ' ' + '='*18)\n",
    "    print(counts)\n",
    "    print('='*40)\n",
    "    # plt.figure(figsize=(12, 7))\n",
    "    # ax = sns.barplot(\n",
    "    #     data=counts,\n",
    "    #     x=counts[col_name],\n",
    "    #     y=counts['count'],\n",
    "    #     palette='viridis'\n",
    "    # )\n",
    "\n",
    "    # for i in range(len(ax.patches)):\n",
    "    #     p = ax.patches[i]\n",
    "    #     percentage = counts['percents'][i]\n",
    "    #     ax.annotate(f'{percentage:.2f}%',\n",
    "    #                 (p.get_x() + p.get_width()/2., p.get_height()),\n",
    "    #                 ha='center', va='center',\n",
    "    #                 fontsize=11, color='black',\n",
    "    #                 xytext=(0, 10),\n",
    "    #                 textcoords='offset points')\n",
    "    \n",
    "    # plt.ylim(0, max(counts['count']) * 1.15)\n",
    "    # ax.set_xlabel('')\n",
    "    # ax.set_title(f'Distribution of {col_name} in each group')\n",
    "    # plt.show()\n"
   ]
  },
  {
   "cell_type": "code",
   "execution_count": 9,
   "id": "dbebac29",
   "metadata": {},
   "outputs": [
    {
     "data": {
      "image/png": "[encoded data removed]",
      "text/plain": [
       "<Figure size 1600x700 with 3 Axes>"
      ]
     },
     "metadata": {},
     "output_type": "display_data"
    },
    {
     "name": "stdout",
     "output_type": "stream",
     "text": [
      "================== Age ==================\n",
      "                             \n",
      "count                  2010.0\n",
      "mean                43.010448\n",
      "std                 14.740003\n",
      "min                      18.0\n",
      "25%                      30.0\n",
      "50%                      43.0\n",
      "75%                      55.0\n",
      "max                      69.0\n",
      "shapiro               0.00000\n",
      "normal                  False\n",
      "missing                     0\n",
      "skew                  0.04478\n",
      "type     right(positive)-skew\n",
      "========================================\n"
     ]
    }
   ],
   "source": [
    "describe_numerical_col(df, 'Age')"
   ]
  },
  {
   "cell_type": "code",
   "execution_count": 215,
   "id": "1c0a2f6d",
   "metadata": {},
   "outputs": [],
   "source": [
    "bins=[18, 30, 45, 60, 70]\n",
    "bin_labels = ['Young', 'Adult', 'Middle-Aged', 'Old']\n",
    "categorize_numerical_col('Age', bins=bins, bins_name=bin_labels)\n"
   ]
  },
  {
   "cell_type": "code",
   "execution_count": 216,
   "id": "2097541f",
   "metadata": {},
   "outputs": [
    {
     "data": {
      "text/html": [
       "<div>\n",
       "<style scoped>\n",
       "    .dataframe tbody tr th:only-of-type {\n",
       "        vertical-align: middle;\n",
       "    }\n",
       "\n",
       "    .dataframe tbody tr th {\n",
       "        vertical-align: top;\n",
       "    }\n",
       "\n",
       "    .dataframe thead th {\n",
       "        text-align: right;\n",
       "    }\n",
       "</style>\n",
       "<table border=\"1\" class=\"dataframe\">\n",
       "  <thead>\n",
       "    <tr style=\"text-align: right;\">\n",
       "      <th></th>\n",
       "      <th>CustomerID</th>\n",
       "      <th>Age</th>\n",
       "      <th>Gender</th>\n",
       "      <th>Income</th>\n",
       "      <th>CampaignChannel</th>\n",
       "      <th>CampaignType</th>\n",
       "      <th>AdSpend</th>\n",
       "      <th>ClickThroughRate</th>\n",
       "      <th>ConversionRate</th>\n",
       "      <th>WebsiteVisits</th>\n",
       "      <th>...</th>\n",
       "      <th>TimeOnSite</th>\n",
       "      <th>SocialShares</th>\n",
       "      <th>EmailOpens</th>\n",
       "      <th>EmailClicks</th>\n",
       "      <th>PreviousPurchases</th>\n",
       "      <th>LoyaltyPoints</th>\n",
       "      <th>AdvertisingPlatform</th>\n",
       "      <th>AdvertisingTool</th>\n",
       "      <th>Conversion</th>\n",
       "      <th>Age_categorized</th>\n",
       "    </tr>\n",
       "  </thead>\n",
       "  <tbody>\n",
       "    <tr>\n",
       "      <th>0</th>\n",
       "      <td>13300</td>\n",
       "      <td>36</td>\n",
       "      <td>Female</td>\n",
       "      <td>47648.0</td>\n",
       "      <td>Email</td>\n",
       "      <td>Consideration</td>\n",
       "      <td>893.7554921892273</td>\n",
       "      <td>0.132078</td>\n",
       "      <td>0.198063</td>\n",
       "      <td>38</td>\n",
       "      <td>...</td>\n",
       "      <td>11.923316</td>\n",
       "      <td>9</td>\n",
       "      <td>3</td>\n",
       "      <td>6</td>\n",
       "      <td>1</td>\n",
       "      <td>1139</td>\n",
       "      <td>IsConfid</td>\n",
       "      <td>ToolConfid</td>\n",
       "      <td>1</td>\n",
       "      <td>Adult</td>\n",
       "    </tr>\n",
       "    <tr>\n",
       "      <th>1</th>\n",
       "      <td>10429</td>\n",
       "      <td>32</td>\n",
       "      <td>Female</td>\n",
       "      <td>47491.0</td>\n",
       "      <td>Email</td>\n",
       "      <td>Consideration</td>\n",
       "      <td>7330.251375088103</td>\n",
       "      <td>0.120810</td>\n",
       "      <td>0.088416</td>\n",
       "      <td>27</td>\n",
       "      <td>...</td>\n",
       "      <td>NaN</td>\n",
       "      <td>33</td>\n",
       "      <td>0</td>\n",
       "      <td>2</td>\n",
       "      <td>4</td>\n",
       "      <td>3772</td>\n",
       "      <td>IsConfid</td>\n",
       "      <td>ToolConfid</td>\n",
       "      <td>1</td>\n",
       "      <td>Adult</td>\n",
       "    </tr>\n",
       "    <tr>\n",
       "      <th>2</th>\n",
       "      <td>10557</td>\n",
       "      <td>52</td>\n",
       "      <td>Male</td>\n",
       "      <td>83830.0</td>\n",
       "      <td>Referral</td>\n",
       "      <td>Awareness</td>\n",
       "      <td>7720.360685483039</td>\n",
       "      <td>0.125472</td>\n",
       "      <td>0.082197</td>\n",
       "      <td>35</td>\n",
       "      <td>...</td>\n",
       "      <td>0.660581</td>\n",
       "      <td>29</td>\n",
       "      <td>1</td>\n",
       "      <td>3</td>\n",
       "      <td>0</td>\n",
       "      <td>3611</td>\n",
       "      <td>IsConfid</td>\n",
       "      <td>ToolConfid</td>\n",
       "      <td>1</td>\n",
       "      <td>Middle-Aged</td>\n",
       "    </tr>\n",
       "    <tr>\n",
       "      <th>3</th>\n",
       "      <td>12602</td>\n",
       "      <td>52</td>\n",
       "      <td>Male</td>\n",
       "      <td>116342.0</td>\n",
       "      <td>Social Media</td>\n",
       "      <td>Consideration</td>\n",
       "      <td>8337.45315727269</td>\n",
       "      <td>0.158739</td>\n",
       "      <td>0.089032</td>\n",
       "      <td>25</td>\n",
       "      <td>...</td>\n",
       "      <td>12.218421</td>\n",
       "      <td>72</td>\n",
       "      <td>3</td>\n",
       "      <td>7</td>\n",
       "      <td>4</td>\n",
       "      <td>1173</td>\n",
       "      <td>IsConfid</td>\n",
       "      <td>ToolConfid</td>\n",
       "      <td>1</td>\n",
       "      <td>Middle-Aged</td>\n",
       "    </tr>\n",
       "    <tr>\n",
       "      <th>4</th>\n",
       "      <td>8592</td>\n",
       "      <td>58</td>\n",
       "      <td>Female</td>\n",
       "      <td>90994.0</td>\n",
       "      <td>Email</td>\n",
       "      <td>Retention</td>\n",
       "      <td>5273.098832292671</td>\n",
       "      <td>0.226054</td>\n",
       "      <td>0.099792</td>\n",
       "      <td>13</td>\n",
       "      <td>...</td>\n",
       "      <td>4.894079</td>\n",
       "      <td>41</td>\n",
       "      <td>16</td>\n",
       "      <td>7</td>\n",
       "      <td>0</td>\n",
       "      <td>1102</td>\n",
       "      <td>IsConfid</td>\n",
       "      <td>ToolConfid</td>\n",
       "      <td>1</td>\n",
       "      <td>Middle-Aged</td>\n",
       "    </tr>\n",
       "    <tr>\n",
       "      <th>...</th>\n",
       "      <td>...</td>\n",
       "      <td>...</td>\n",
       "      <td>...</td>\n",
       "      <td>...</td>\n",
       "      <td>...</td>\n",
       "      <td>...</td>\n",
       "      <td>...</td>\n",
       "      <td>...</td>\n",
       "      <td>...</td>\n",
       "      <td>...</td>\n",
       "      <td>...</td>\n",
       "      <td>...</td>\n",
       "      <td>...</td>\n",
       "      <td>...</td>\n",
       "      <td>...</td>\n",
       "      <td>...</td>\n",
       "      <td>...</td>\n",
       "      <td>...</td>\n",
       "      <td>...</td>\n",
       "      <td>...</td>\n",
       "      <td>...</td>\n",
       "    </tr>\n",
       "    <tr>\n",
       "      <th>2005</th>\n",
       "      <td>10403</td>\n",
       "      <td>25</td>\n",
       "      <td>Female</td>\n",
       "      <td>88745.0</td>\n",
       "      <td>Email</td>\n",
       "      <td>Consideration</td>\n",
       "      <td>6781.038905721557</td>\n",
       "      <td>0.255968</td>\n",
       "      <td>0.102050</td>\n",
       "      <td>18</td>\n",
       "      <td>...</td>\n",
       "      <td>14.300916</td>\n",
       "      <td>37</td>\n",
       "      <td>12</td>\n",
       "      <td>1</td>\n",
       "      <td>8</td>\n",
       "      <td>4229</td>\n",
       "      <td>IsConfid</td>\n",
       "      <td>ToolConfid</td>\n",
       "      <td>1</td>\n",
       "      <td>Young</td>\n",
       "    </tr>\n",
       "    <tr>\n",
       "      <th>2006</th>\n",
       "      <td>9208</td>\n",
       "      <td>50</td>\n",
       "      <td>Female</td>\n",
       "      <td>109895.0</td>\n",
       "      <td>PPC</td>\n",
       "      <td>Conversion</td>\n",
       "      <td>4190.031761180359</td>\n",
       "      <td>0.268642</td>\n",
       "      <td>0.070013</td>\n",
       "      <td>45</td>\n",
       "      <td>...</td>\n",
       "      <td>6.933904</td>\n",
       "      <td>3</td>\n",
       "      <td>0</td>\n",
       "      <td>2</td>\n",
       "      <td>4</td>\n",
       "      <td>1976</td>\n",
       "      <td>IsConfid</td>\n",
       "      <td>ToolConfid</td>\n",
       "      <td>1</td>\n",
       "      <td>Middle-Aged</td>\n",
       "    </tr>\n",
       "    <tr>\n",
       "      <th>2007</th>\n",
       "      <td>10725</td>\n",
       "      <td>37</td>\n",
       "      <td>Male</td>\n",
       "      <td>107049.0</td>\n",
       "      <td>SEO</td>\n",
       "      <td>Awareness</td>\n",
       "      <td>5092.916277216971</td>\n",
       "      <td>0.287963</td>\n",
       "      <td>0.010459</td>\n",
       "      <td>34</td>\n",
       "      <td>...</td>\n",
       "      <td>0.501684</td>\n",
       "      <td>0</td>\n",
       "      <td>9</td>\n",
       "      <td>6</td>\n",
       "      <td>7</td>\n",
       "      <td>1066</td>\n",
       "      <td>IsConfid</td>\n",
       "      <td>ToolConfid</td>\n",
       "      <td>1</td>\n",
       "      <td>Adult</td>\n",
       "    </tr>\n",
       "    <tr>\n",
       "      <th>2008</th>\n",
       "      <td>10945</td>\n",
       "      <td>42</td>\n",
       "      <td>Female</td>\n",
       "      <td>32420.0</td>\n",
       "      <td>Referral</td>\n",
       "      <td>Consideration</td>\n",
       "      <td>7902.972421750569</td>\n",
       "      <td>0.154523</td>\n",
       "      <td>0.055544</td>\n",
       "      <td>46</td>\n",
       "      <td>...</td>\n",
       "      <td>9.375551</td>\n",
       "      <td>10</td>\n",
       "      <td>6</td>\n",
       "      <td>4</td>\n",
       "      <td>3</td>\n",
       "      <td>3576</td>\n",
       "      <td>IsConfid</td>\n",
       "      <td>ToolConfid</td>\n",
       "      <td>1</td>\n",
       "      <td>Adult</td>\n",
       "    </tr>\n",
       "    <tr>\n",
       "      <th>2009</th>\n",
       "      <td>11365</td>\n",
       "      <td>20</td>\n",
       "      <td>Male</td>\n",
       "      <td>61733.0</td>\n",
       "      <td>SEO</td>\n",
       "      <td>Consideration</td>\n",
       "      <td>8223.376473288765</td>\n",
       "      <td>0.222734</td>\n",
       "      <td>0.154168</td>\n",
       "      <td>29</td>\n",
       "      <td>...</td>\n",
       "      <td>13.604199</td>\n",
       "      <td>92</td>\n",
       "      <td>19</td>\n",
       "      <td>9</td>\n",
       "      <td>9</td>\n",
       "      <td>954</td>\n",
       "      <td>IsConfid</td>\n",
       "      <td>ToolConfid</td>\n",
       "      <td>1</td>\n",
       "      <td>Young</td>\n",
       "    </tr>\n",
       "  </tbody>\n",
       "</table>\n",
       "<p>2010 rows × 21 columns</p>\n",
       "</div>"
      ],
      "text/plain": [
       "      CustomerID  Age  Gender    Income CampaignChannel   CampaignType  \\\n",
       "0          13300   36  Female   47648.0           Email  Consideration   \n",
       "1          10429   32  Female   47491.0           Email  Consideration   \n",
       "2          10557   52    Male   83830.0        Referral      Awareness   \n",
       "3          12602   52    Male  116342.0    Social Media  Consideration   \n",
       "4           8592   58  Female   90994.0           Email      Retention   \n",
       "...          ...  ...     ...       ...             ...            ...   \n",
       "2005       10403   25  Female   88745.0           Email  Consideration   \n",
       "2006        9208   50  Female  109895.0             PPC     Conversion   \n",
       "2007       10725   37    Male  107049.0             SEO      Awareness   \n",
       "2008       10945   42  Female   32420.0        Referral  Consideration   \n",
       "2009       11365   20    Male   61733.0             SEO  Consideration   \n",
       "\n",
       "                AdSpend  ClickThroughRate  ConversionRate  WebsiteVisits  ...  \\\n",
       "0     893.7554921892273          0.132078        0.198063             38  ...   \n",
       "1     7330.251375088103          0.120810        0.088416             27  ...   \n",
       "2     7720.360685483039          0.125472        0.082197             35  ...   \n",
       "3      8337.45315727269          0.158739        0.089032             25  ...   \n",
       "4     5273.098832292671          0.226054        0.099792             13  ...   \n",
       "...                 ...               ...             ...            ...  ...   \n",
       "2005  6781.038905721557          0.255968        0.102050             18  ...   \n",
       "2006  4190.031761180359          0.268642        0.070013             45  ...   \n",
       "2007  5092.916277216971          0.287963        0.010459             34  ...   \n",
       "2008  7902.972421750569          0.154523        0.055544             46  ...   \n",
       "2009  8223.376473288765          0.222734        0.154168             29  ...   \n",
       "\n",
       "      TimeOnSite  SocialShares  EmailOpens  EmailClicks  PreviousPurchases  \\\n",
       "0      11.923316             9           3            6                  1   \n",
       "1            NaN            33           0            2                  4   \n",
       "2       0.660581            29           1            3                  0   \n",
       "3      12.218421            72           3            7                  4   \n",
       "4       4.894079            41          16            7                  0   \n",
       "...          ...           ...         ...          ...                ...   \n",
       "2005   14.300916            37          12            1                  8   \n",
       "2006    6.933904             3           0            2                  4   \n",
       "2007    0.501684             0           9            6                  7   \n",
       "2008    9.375551            10           6            4                  3   \n",
       "2009   13.604199            92          19            9                  9   \n",
       "\n",
       "      LoyaltyPoints  AdvertisingPlatform AdvertisingTool Conversion  \\\n",
       "0              1139             IsConfid      ToolConfid          1   \n",
       "1              3772             IsConfid      ToolConfid          1   \n",
       "2              3611             IsConfid      ToolConfid          1   \n",
       "3              1173             IsConfid      ToolConfid          1   \n",
       "4              1102             IsConfid      ToolConfid          1   \n",
       "...             ...                  ...             ...        ...   \n",
       "2005           4229             IsConfid      ToolConfid          1   \n",
       "2006           1976             IsConfid      ToolConfid          1   \n",
       "2007           1066             IsConfid      ToolConfid          1   \n",
       "2008           3576             IsConfid      ToolConfid          1   \n",
       "2009            954             IsConfid      ToolConfid          1   \n",
       "\n",
       "      Age_categorized  \n",
       "0               Adult  \n",
       "1               Adult  \n",
       "2         Middle-Aged  \n",
       "3         Middle-Aged  \n",
       "4         Middle-Aged  \n",
       "...               ...  \n",
       "2005            Young  \n",
       "2006      Middle-Aged  \n",
       "2007            Adult  \n",
       "2008            Adult  \n",
       "2009            Young  \n",
       "\n",
       "[2010 rows x 21 columns]"
      ]
     },
     "execution_count": 216,
     "metadata": {},
     "output_type": "execute_result"
    }
   ],
   "source": [
    "df"
   ]
  },
  {
   "cell_type": "code",
   "execution_count": 217,
   "id": "963ae439",
   "metadata": {},
   "outputs": [
    {
     "data": {
      "application/vnd.plotly.v1+json": {
       "config": {
        "plotlyServerURL": "https://plot.ly"
       },
       "data": [
        {
         "customdata": [
          [
           "Adult"
          ],
          [
           "Middle-Aged"
          ],
          [
           "Young"
          ],
          [
           "Old"
          ]
         ],
         "domain": {
          "x": [
           0,
           1
          ],
          "y": [
           0,
           1
          ]
         },
         "hole": 0.3,
         "hovertemplate": "Group=%{customdata[0]}<br>Count=%{value}<extra></extra>",
         "labels": [
          "Adult",
          "Middle-Aged",
          "Young",
          "Old"
         ],
         "legendgroup": "",
         "marker": {
          "colors": [
           "#636efa",
           "#EF553B",
           "#00cc96",
           "#ab63fa"
          ]
         },
         "name": "",
         "showlegend": true,
         "textinfo": "percent+label",
         "textposition": "inside",
         "type": "pie",
         "values": [
          619,
          558,
          473,
          327
         ]
        }
       ],
       "layout": {
        "font": {
         "family": "Arial, sans-serif",
         "size": 14
        },
        "legend": {
         "title": {
          "text": "Groups"
         },
         "tracegroupgap": 0
        },
        "template": {
         "data": {
          "bar": [
           {
            "error_x": {
             "color": "#2a3f5f"
            },
            "error_y": {
             "color": "#2a3f5f"
            },
            "marker": {
             "line": {
              "color": "#E5ECF6",
              "width": 0.5
             },
             "pattern": {
              "fillmode": "overlay",
              "size": 10,
              "solidity": 0.2
             }
            },
            "type": "bar"
           }
          ],
          "barpolar": [
           {
            "marker": {
             "line": {
              "color": "#E5ECF6",
              "width": 0.5
             },
             "pattern": {
              "fillmode": "overlay",
              "size": 10,
              "solidity": 0.2
             }
            },
            "type": "barpolar"
           }
          ],
          "carpet": [
           {
            "aaxis": {
             "endlinecolor": "#2a3f5f",
             "gridcolor": "white",
             "linecolor": "white",
             "minorgridcolor": "white",
             "startlinecolor": "#2a3f5f"
            },
            "baxis": {
             "endlinecolor": "#2a3f5f",
             "gridcolor": "white",
             "linecolor": "white",
             "minorgridcolor": "white",
             "startlinecolor": "#2a3f5f"
            },
            "type": "carpet"
           }
          ],
          "choropleth": [
           {
            "colorbar": {
             "outlinewidth": 0,
             "ticks": ""
            },
            "type": "choropleth"
           }
          ],
          "contour": [
           {
            "colorbar": {
             "outlinewidth": 0,
             "ticks": ""
            },
            "colorscale": [
             [
              0,
              "#0d0887"
             ],
             [
              0.1111111111111111,
              "#46039f"
             ],
             [
              0.2222222222222222,
              "#7201a8"
             ],
             [
              0.3333333333333333,
              "#9c179e"
             ],
             [
              0.4444444444444444,
              "#bd3786"
             ],
             [
              0.5555555555555556,
              "#d8576b"
             ],
             [
              0.6666666666666666,
              "#ed7953"
             ],
             [
              0.7777777777777778,
              "#fb9f3a"
             ],
             [
              0.8888888888888888,
              "#fdca26"
             ],
             [
              1,
              "#f0f921"
             ]
            ],
            "type": "contour"
           }
          ],
          "contourcarpet": [
           {
            "colorbar": {
             "outlinewidth": 0,
             "ticks": ""
            },
            "type": "contourcarpet"
           }
          ],
          "heatmap": [
           {
            "colorbar": {
             "outlinewidth": 0,
             "ticks": ""
            },
            "colorscale": [
             [
              0,
              "#0d0887"
             ],
             [
              0.1111111111111111,
              "#46039f"
             ],
             [
              0.2222222222222222,
              "#7201a8"
             ],
             [
              0.3333333333333333,
              "#9c179e"
             ],
             [
              0.4444444444444444,
              "#bd3786"
             ],
             [
              0.5555555555555556,
              "#d8576b"
             ],
             [
              0.6666666666666666,
              "#ed7953"
             ],
             [
              0.7777777777777778,
              "#fb9f3a"
             ],
             [
              0.8888888888888888,
              "#fdca26"
             ],
             [
              1,
              "#f0f921"
             ]
            ],
            "type": "heatmap"
           }
          ],
          "heatmapgl": [
           {
            "colorbar": {
             "outlinewidth": 0,
             "ticks": ""
            },
            "colorscale": [
             [
              0,
              "#0d0887"
             ],
             [
              0.1111111111111111,
              "#46039f"
             ],
             [
              0.2222222222222222,
              "#7201a8"
             ],
             [
              0.3333333333333333,
              "#9c179e"
             ],
             [
              0.4444444444444444,
              "#bd3786"
             ],
             [
              0.5555555555555556,
              "#d8576b"
             ],
             [
              0.6666666666666666,
              "#ed7953"
             ],
             [
              0.7777777777777778,
              "#fb9f3a"
             ],
             [
              0.8888888888888888,
              "#fdca26"
             ],
             [
              1,
              "#f0f921"
             ]
            ],
            "type": "heatmapgl"
           }
          ],
          "histogram": [
           {
            "marker": {
             "pattern": {
              "fillmode": "overlay",
              "size": 10,
              "solidity": 0.2
             }
            },
            "type": "histogram"
           }
          ],
          "histogram2d": [
           {
            "colorbar": {
             "outlinewidth": 0,
             "ticks": ""
            },
            "colorscale": [
             [
              0,
              "#0d0887"
             ],
             [
              0.1111111111111111,
              "#46039f"
             ],
             [
              0.2222222222222222,
              "#7201a8"
             ],
             [
              0.3333333333333333,
              "#9c179e"
             ],
             [
              0.4444444444444444,
              "#bd3786"
             ],
             [
              0.5555555555555556,
              "#d8576b"
             ],
             [
              0.6666666666666666,
              "#ed7953"
             ],
             [
              0.7777777777777778,
              "#fb9f3a"
             ],
             [
              0.8888888888888888,
              "#fdca26"
             ],
             [
              1,
              "#f0f921"
             ]
            ],
            "type": "histogram2d"
           }
          ],
          "histogram2dcontour": [
           {
            "colorbar": {
             "outlinewidth": 0,
             "ticks": ""
            },
            "colorscale": [
             [
              0,
              "#0d0887"
             ],
             [
              0.1111111111111111,
              "#46039f"
             ],
             [
              0.2222222222222222,
              "#7201a8"
             ],
             [
              0.3333333333333333,
              "#9c179e"
             ],
             [
              0.4444444444444444,
              "#bd3786"
             ],
             [
              0.5555555555555556,
              "#d8576b"
             ],
             [
              0.6666666666666666,
              "#ed7953"
             ],
             [
              0.7777777777777778,
              "#fb9f3a"
             ],
             [
              0.8888888888888888,
              "#fdca26"
             ],
             [
              1,
              "#f0f921"
             ]
            ],
            "type": "histogram2dcontour"
           }
          ],
          "mesh3d": [
           {
            "colorbar": {
             "outlinewidth": 0,
             "ticks": ""
            },
            "type": "mesh3d"
           }
          ],
          "parcoords": [
           {
            "line": {
             "colorbar": {
              "outlinewidth": 0,
              "ticks": ""
             }
            },
            "type": "parcoords"
           }
          ],
          "pie": [
           {
            "automargin": true,
            "type": "pie"
           }
          ],
          "scatter": [
           {
            "fillpattern": {
             "fillmode": "overlay",
             "size": 10,
             "solidity": 0.2
            },
            "type": "scatter"
           }
          ],
          "scatter3d": [
           {
            "line": {
             "colorbar": {
              "outlinewidth": 0,
              "ticks": ""
             }
            },
            "marker": {
             "colorbar": {
              "outlinewidth": 0,
              "ticks": ""
             }
            },
            "type": "scatter3d"
           }
          ],
          "scattercarpet": [
           {
            "marker": {
             "colorbar": {
              "outlinewidth": 0,
              "ticks": ""
             }
            },
            "type": "scattercarpet"
           }
          ],
          "scattergeo": [
           {
            "marker": {
             "colorbar": {
              "outlinewidth": 0,
              "ticks": ""
             }
            },
            "type": "scattergeo"
           }
          ],
          "scattergl": [
           {
            "marker": {
             "colorbar": {
              "outlinewidth": 0,
              "ticks": ""
             }
            },
            "type": "scattergl"
           }
          ],
          "scattermapbox": [
           {
            "marker": {
             "colorbar": {
              "outlinewidth": 0,
              "ticks": ""
             }
            },
            "type": "scattermapbox"
           }
          ],
          "scatterpolar": [
           {
            "marker": {
             "colorbar": {
              "outlinewidth": 0,
              "ticks": ""
             }
            },
            "type": "scatterpolar"
           }
          ],
          "scatterpolargl": [
           {
            "marker": {
             "colorbar": {
              "outlinewidth": 0,
              "ticks": ""
             }
            },
            "type": "scatterpolargl"
           }
          ],
          "scatterternary": [
           {
            "marker": {
             "colorbar": {
              "outlinewidth": 0,
              "ticks": ""
             }
            },
            "type": "scatterternary"
           }
          ],
          "surface": [
           {
            "colorbar": {
             "outlinewidth": 0,
             "ticks": ""
            },
            "colorscale": [
             [
              0,
              "#0d0887"
             ],
             [
              0.1111111111111111,
              "#46039f"
             ],
             [
              0.2222222222222222,
              "#7201a8"
             ],
             [
              0.3333333333333333,
              "#9c179e"
             ],
             [
              0.4444444444444444,
              "#bd3786"
             ],
             [
              0.5555555555555556,
              "#d8576b"
             ],
             [
              0.6666666666666666,
              "#ed7953"
             ],
             [
              0.7777777777777778,
              "#fb9f3a"
             ],
             [
              0.8888888888888888,
              "#fdca26"
             ],
             [
              1,
              "#f0f921"
             ]
            ],
            "type": "surface"
           }
          ],
          "table": [
           {
            "cells": {
             "fill": {
              "color": "#EBF0F8"
             },
             "line": {
              "color": "white"
             }
            },
            "header": {
             "fill": {
              "color": "#C8D4E3"
             },
             "line": {
              "color": "white"
             }
            },
            "type": "table"
           }
          ]
         },
         "layout": {
          "annotationdefaults": {
           "arrowcolor": "#2a3f5f",
           "arrowhead": 0,
           "arrowwidth": 1
          },
          "autotypenumbers": "strict",
          "coloraxis": {
           "colorbar": {
            "outlinewidth": 0,
            "ticks": ""
           }
          },
          "colorscale": {
           "diverging": [
            [
             0,
             "#8e0152"
            ],
            [
             0.1,
             "#c51b7d"
            ],
            [
             0.2,
             "#de77ae"
            ],
            [
             0.3,
             "#f1b6da"
            ],
            [
             0.4,
             "#fde0ef"
            ],
            [
             0.5,
             "#f7f7f7"
            ],
            [
             0.6,
             "#e6f5d0"
            ],
            [
             0.7,
             "#b8e186"
            ],
            [
             0.8,
             "#7fbc41"
            ],
            [
             0.9,
             "#4d9221"
            ],
            [
             1,
             "#276419"
            ]
           ],
           "sequential": [
            [
             0,
             "#0d0887"
            ],
            [
             0.1111111111111111,
             "#46039f"
            ],
            [
             0.2222222222222222,
             "#7201a8"
            ],
            [
             0.3333333333333333,
             "#9c179e"
            ],
            [
             0.4444444444444444,
             "#bd3786"
            ],
            [
             0.5555555555555556,
             "#d8576b"
            ],
            [
             0.6666666666666666,
             "#ed7953"
            ],
            [
             0.7777777777777778,
             "#fb9f3a"
            ],
            [
             0.8888888888888888,
             "#fdca26"
            ],
            [
             1,
             "#f0f921"
            ]
           ],
           "sequentialminus": [
            [
             0,
             "#0d0887"
            ],
            [
             0.1111111111111111,
             "#46039f"
            ],
            [
             0.2222222222222222,
             "#7201a8"
            ],
            [
             0.3333333333333333,
             "#9c179e"
            ],
            [
             0.4444444444444444,
             "#bd3786"
            ],
            [
             0.5555555555555556,
             "#d8576b"
            ],
            [
             0.6666666666666666,
             "#ed7953"
            ],
            [
             0.7777777777777778,
             "#fb9f3a"
            ],
            [
             0.8888888888888888,
             "#fdca26"
            ],
            [
             1,
             "#f0f921"
            ]
           ]
          },
          "colorway": [
           "#636efa",
           "#EF553B",
           "#00cc96",
           "#ab63fa",
           "#FFA15A",
           "#19d3f3",
           "#FF6692",
           "#B6E880",
           "#FF97FF",
           "#FECB52"
          ],
          "font": {
           "color": "#2a3f5f"
          },
          "geo": {
           "bgcolor": "white",
           "lakecolor": "white",
           "landcolor": "#E5ECF6",
           "showlakes": true,
           "showland": true,
           "subunitcolor": "white"
          },
          "hoverlabel": {
           "align": "left"
          },
          "hovermode": "closest",
          "mapbox": {
           "style": "light"
          },
          "paper_bgcolor": "white",
          "plot_bgcolor": "#E5ECF6",
          "polar": {
           "angularaxis": {
            "gridcolor": "white",
            "linecolor": "white",
            "ticks": ""
           },
           "bgcolor": "#E5ECF6",
           "radialaxis": {
            "gridcolor": "white",
            "linecolor": "white",
            "ticks": ""
           }
          },
          "scene": {
           "xaxis": {
            "backgroundcolor": "#E5ECF6",
            "gridcolor": "white",
            "gridwidth": 2,
            "linecolor": "white",
            "showbackground": true,
            "ticks": "",
            "zerolinecolor": "white"
           },
           "yaxis": {
            "backgroundcolor": "#E5ECF6",
            "gridcolor": "white",
            "gridwidth": 2,
            "linecolor": "white",
            "showbackground": true,
            "ticks": "",
            "zerolinecolor": "white"
           },
           "zaxis": {
            "backgroundcolor": "#E5ECF6",
            "gridcolor": "white",
            "gridwidth": 2,
            "linecolor": "white",
            "showbackground": true,
            "ticks": "",
            "zerolinecolor": "white"
           }
          },
          "shapedefaults": {
           "line": {
            "color": "#2a3f5f"
           }
          },
          "ternary": {
           "aaxis": {
            "gridcolor": "white",
            "linecolor": "white",
            "ticks": ""
           },
           "baxis": {
            "gridcolor": "white",
            "linecolor": "white",
            "ticks": ""
           },
           "bgcolor": "#E5ECF6",
           "caxis": {
            "gridcolor": "white",
            "linecolor": "white",
            "ticks": ""
           }
          },
          "title": {
           "x": 0.05
          },
          "xaxis": {
           "automargin": true,
           "gridcolor": "white",
           "linecolor": "white",
           "ticks": "",
           "title": {
            "standoff": 15
           },
           "zerolinecolor": "white",
           "zerolinewidth": 2
          },
          "yaxis": {
           "automargin": true,
           "gridcolor": "white",
           "linecolor": "white",
           "ticks": "",
           "title": {
            "standoff": 15
           },
           "zerolinecolor": "white",
           "zerolinewidth": 2
          }
         }
        },
        "title": {
         "text": "<b>Distribution of Age_categorized in each group</b>",
         "x": 0.5
        }
       }
      }
     },
     "metadata": {},
     "output_type": "display_data"
    },
    {
     "name": "stdout",
     "output_type": "stream",
     "text": [
      "================== Age_categorized ==================\n",
      "         Group  Count      %\n",
      "0        Adult    619  31.31\n",
      "1  Middle-Aged    558  28.22\n",
      "2        Young    473  23.93\n",
      "3          Old    327  16.54\n",
      "========================================\n"
     ]
    }
   ],
   "source": [
    "describe_categorical_col(df, 'Age_categorized')"
   ]
  },
  {
   "cell_type": "code",
   "execution_count": 289,
   "id": "6045019a",
   "metadata": {},
   "outputs": [],
   "source": [
    "def plot_numerical_vs_target(df, num_col, target_col):\n",
    "    fig, ax = plt.subplots(2, 2, figsize=(15, 10))\n",
    "\n",
    "    # First plot: A histogram of two groups\n",
    "    sns.histplot(data=df[[num_col, target_col]],\n",
    "                x=num_col, hue=target_col,\n",
    "                kde=True,\n",
    "                ax=ax[0, 0],\n",
    "                element='step',\n",
    "                palette='Pastel1',\n",
    "                alpha=0.7)\n",
    "    ax[0, 0].set_xlabel('')\n",
    "    legend = ax[0, 0].get_legend()\n",
    "    handles = legend.legend_handles\n",
    "    ax[0, 0].legend(handles, ['No', 'Yes'], title=target_col)\n",
    "\n",
    "    # Second plot: Box plots of two Groups\n",
    "    sns.boxplot(data = df, x=target_col, y=num_col, palette='Pastel1', ax=ax[0, 1])\n",
    "    ax[0, 1].set_xticklabels([])\n",
    "    ax[0, 1].set_xlabel('')\n",
    "    # Third plot: Violen plot\n",
    "    sns.violinplot(data=df, x=target_col, y=num_col, palette='Pastel1', ax=ax[1, 1])\n",
    "    ax[1, 1].set_xticks([0, 1], ['No', 'Yes'])\n",
    "    # Forth plot: Q-Q plot\n",
    "    stats.probplot(df[num_col], plot=ax[1, 0])\n",
    "    fig.tight_layout()\n",
    "    plt.show()"
   ]
  },
  {
   "cell_type": "code",
   "execution_count": 290,
   "id": "c761954d",
   "metadata": {},
   "outputs": [
    {
     "data": {
      "image/png": "[encoded data removed]",
      "text/plain": [
       "<Figure size 1500x1000 with 4 Axes>"
      ]
     },
     "metadata": {},
     "output_type": "display_data"
    }
   ],
   "source": [
    "plot_numerical_vs_target(df, 'Age', 'Conversion')"
   ]
  },
  {
   "cell_type": "code",
   "execution_count": null,
   "id": "a6523d9c",
   "metadata": {},
   "outputs": [],
   "source": []
  },
  {
   "cell_type": "code",
   "execution_count": null,
   "id": "9760891b",
   "metadata": {},
   "outputs": [],
   "source": []
  }
 ],
 "metadata": {
  "kernelspec": {
   "display_name": "QBX",
   "language": "python",
   "name": "python3"
  },
  "language_info": {
   "codemirror_mode": {
    "name": "ipython",
    "version": 3
   },
   "file_extension": ".py",
   "mimetype": "text/x-python",
   "name": "python",
   "nbconvert_exporter": "python",
   "pygments_lexer": "ipython3",
   "version": "3.9.23"
  }
 },
 "nbformat": 4,
 "nbformat_minor": 5
}
