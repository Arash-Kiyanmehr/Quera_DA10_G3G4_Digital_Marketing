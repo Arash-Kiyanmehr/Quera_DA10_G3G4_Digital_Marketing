{
 "cells": [
  {
   "cell_type": "code",
   "execution_count": 4,
   "id": "0147fb09",
   "metadata": {},
   "outputs": [],
   "source": [
    "import pandas as pd\n",
    "import numpy as np\n",
    "import matplotlib.pyplot as plt\n",
    "import seaborn as sns\n",
    "import plotly.express as px\n",
    "import scipy.stats as stats\n",
    "from itertools import combinations\n",
    "import json\n",
    "import warnings"
   ]
  },
  {
   "cell_type": "code",
   "execution_count": 5,
   "id": "36ff6056",
   "metadata": {},
   "outputs": [],
   "source": [
    "warnings.filterwarnings('ignore')\n",
    "sns.set_style(\"whitegrid\")"
   ]
  },
  {
   "cell_type": "code",
   "execution_count": 6,
   "id": "99517c23",
   "metadata": {},
   "outputs": [],
   "source": [
    "#Add functions for Univariate analysis\n",
    "def describe_numerical_col(df, col_name):\n",
    "    info = df[[col_name]].describe().to_dict()[col_name]\n",
    "    info['shapiro'] = f'{stats.shapiro(df[col_name])[1]: .5f}'\n",
    "    info['normal'] = float(info['shapiro']) > 0.05\n",
    "    info['missing'] = df[col_name].isna().sum()\n",
    "    info['skew'] = f'{stats.skew(df[col_name]):.5f}'\n",
    "    info['type'] = ('slight ' if info['normal'] else '') +\\\n",
    "        ('right(positive)' if float(info['skew']) > 0 else 'left(negative)') + '-skew'\n",
    "\n",
    "    fig, ax = plt.subplots(2, 2, figsize=(16, 7), gridspec_kw={'height_ratios':(.85, .15)})\n",
    "    sns.histplot(df[col_name], kde=True, ax=ax[0, 0], color='#55A868')\n",
    "    sns.boxplot(df[col_name], orient='h', ax=ax[1, 0], color=\"#5583A8\")\n",
    "    counts, bin_edges = np.histogram(df[col_name], bins=10, density = True)\n",
    "    pdf = counts / (sum(counts))\n",
    "    cdf = np.cumsum(pdf)\n",
    "    ax[1, 1] = plt.subplot(122)\n",
    "    plt.plot(bin_edges[1:], pdf, label='PDF')\n",
    "    plt.plot(bin_edges[1:], cdf, label='CDF')\n",
    "    plt.legend()\n",
    "    ax[0, 0].set_xticklabels([])\n",
    "    ax[1, 0].set_yticklabels([])\n",
    "    ax[0, 0].set_xlabel('')\n",
    "    ax[0, 0].set_ylabel('Count')\n",
    "    fig.suptitle(col_name, fontsize=30)\n",
    "    plt.xticks(rotation=45)\n",
    "    plt.tight_layout()\n",
    "    plt.show()\n",
    "    \n",
    "    info_df = pd.DataFrame.from_dict(info, orient='index', columns=[''])\n",
    "    print('='*18 + ' ' +col_name + ' ' + '='*18)\n",
    "    print(info_df)\n",
    "    print('='*40)\n",
    "    \n",
    "def categorize_numerical_col(col_name, bins, bins_name):\n",
    "    new_col = f'{col_name}_categorized'\n",
    "    df[new_col] = pd.cut(df[col_name], bins=bins, labels=bins_name)\n",
    "\n",
    "def describe_categorical_col(df, col_name):\n",
    "    counts = pd.DataFrame(df[col_name].value_counts()).reset_index()\n",
    "    counts.columns = ['Group', 'Count']\n",
    "    total = sum(counts['Count'])\n",
    "    counts['%'] = (counts['Count'] / total * 100).round(2)\n",
    "\n",
    "    fig = px.pie(\n",
    "        counts,\n",
    "        names='Group',\n",
    "        values='Count',\n",
    "        title=f'<b>Distribution of {col_name} in each group</b>',\n",
    "        color='Group',\n",
    "        hole=0.3\n",
    "    )\n",
    "\n",
    "    fig.update_traces(\n",
    "        textposition='inside',\n",
    "        textinfo='percent+label',\n",
    "\n",
    "    )\n",
    "\n",
    "    fig.update_layout(\n",
    "        title_x=0.5,\n",
    "        legend_title_text='Groups',\n",
    "        font=dict(family=\"Arial, sans-serif\", size=14)\n",
    "    )\n",
    "    fig.show()\n",
    "    print('='*18 + ' ' +col_name + ' ' + '='*18)\n",
    "    print(counts)\n",
    "    print('='*40)\n",
    "    # plt.figure(figsize=(12, 7))\n",
    "    # ax = sns.barplot(\n",
    "    #     data=counts,\n",
    "    #     x=counts[col_name],\n",
    "    #     y=counts['count'],\n",
    "    #     palette='viridis'\n",
    "    # )\n",
    "\n",
    "    # for i in range(len(ax.patches)):\n",
    "    #     p = ax.patches[i]\n",
    "    #     percentage = counts['percents'][i]\n",
    "    #     ax.annotate(f'{percentage:.2f}%',\n",
    "    #                 (p.get_x() + p.get_width()/2., p.get_height()),\n",
    "    #                 ha='center', va='center',\n",
    "    #                 fontsize=11, color='black',\n",
    "    #                 xytext=(0, 10),\n",
    "    #                 textcoords='offset points')\n",
    "    \n",
    "    # plt.ylim(0, max(counts['count']) * 1.15)\n",
    "    # ax.set_xlabel('')\n",
    "    # ax.set_title(f'Distribution of {col_name} in each group')\n",
    "    # plt.show()\n",
    "\n",
    "def describe_num_num_relationship(df, col1, col2):\n",
    "    \"\"\"تحلیل رابطه بین دو متغیر عددی\"\"\"\n",
    "    # آزمون نرمال بودن با شاپیرو\n",
    "    shapiro1_stat, shapiro1_p = stats.shapiro(df[col1])\n",
    "    shapiro2_stat, shapiro2_p = stats.shapiro(df[col2])\n",
    "    \n",
    "    # تشخیص نرمال بودن (p > 0.05 یعنی نرمال)\n",
    "    is_normal1 = shapiro1_p > 0.05\n",
    "    is_normal2 = shapiro2_p > 0.05\n",
    "    both_normal = is_normal1 & is_normal2\n",
    "    \n",
    "    # انتخاب آزمون مناسب\n",
    "    if both_normal:\n",
    "        # استفاده از پیرسون\n",
    "        corr_stat, p_value = stats.pearsonr(df[col1], df[col2])\n",
    "        test_used = 'Pearson'\n",
    "        correlation = corr_stat\n",
    "    else:\n",
    "        # استفاده از اسپیرمن\n",
    "        corr_stat, p_value = stats.spearmanr(df[col1], df[col2])\n",
    "        test_used = 'Spearman'\n",
    "        correlation = corr_stat\n",
    "    \n",
    "    r2_score = correlation ** 2\n",
    "    \n",
    "    info = {\n",
    "        'shapiro_p_col1': f'{shapiro1_p:.5f}',\n",
    "        'shapiro_p_col2': f'{shapiro2_p:.5f}',\n",
    "        'col1_normal': is_normal1,\n",
    "        'col2_normal': is_normal2,\n",
    "        'test_used': test_used,\n",
    "        'correlation': f'{correlation:.5f}',\n",
    "        'r_squared': f'{r2_score:.5f}',\n",
    "        'p_value': f'{p_value:.5f}',\n",
    "        'significant': p_value < 0.05,\n",
    "        'relationship_strength': 'strong' if abs(correlation) > 0.7 else 'moderate' if abs(correlation) > 0.3 else 'weak',\n",
    "        'relationship_direction': 'positive' if correlation > 0 else 'negative'\n",
    "    }\n",
    "    \n",
    "    # رسم نمودار\n",
    "    fig, axes = plt.subplots(1, 2, figsize=(14, 6))\n",
    "    fig.suptitle(f'{col1} vs {col2} - {test_used} Correlation', fontsize=14)\n",
    "\n",
    "    # Scatter Plot\n",
    "    axes[0].scatter(df[col1], df[col2],\n",
    "                    s=60, alpha=0.7, color='blue', edgecolors='black', linewidth=0.5)\n",
    "    axes[0].set_title('Scatter Plot')\n",
    "    axes[0].set_xlabel(col1)\n",
    "    axes[0].set_ylabel(col2)\n",
    "    axes[0].grid(True, alpha=0.3)\n",
    "\n",
    "    # Hexbin Plot\n",
    "    axes[1].hexbin(df[col1], df[col2], gridsize=20, cmap='Blues', mincnt=1)\n",
    "    axes[1].set_title('Hexbin Plot')\n",
    "    axes[1].set_xlabel(col1)\n",
    "    axes[1].set_ylabel(col2)\n",
    "    axes[1].yaxis.set_label_position(\"right\")\n",
    "    \n",
    "    plt.tight_layout()\n",
    "    plt.show()\n",
    "    info_df = pd.DataFrame.from_dict(info, orient='index', columns=[''])\n",
    "    print('='*15 + f' {col1} vs {col2} ' + '='*15)\n",
    "    print(info_df)\n",
    "    print('='*50)\n",
    "\n",
    "def describe_cat_num_relationship(df, cat_col, num_col):\n",
    "    \"\"\"تحلیل رابطه بین متغیر کیفی و کمی\"\"\"\n",
    "    \n",
    "    # رسم نمودار\n",
    "    fig, axs = plt.subplots(2, 2, figsize=(14, 10))\n",
    "    \n",
    "    # Box plot\n",
    "    sns.boxplot(data=df, x=cat_col, y=num_col, ax=axs[0, 0])\n",
    "    axs[0, 0].set_title(f'{num_col} by {cat_col}')\n",
    "    plt.xticks(rotation=45)\n",
    "    \n",
    "    # Violin plot\n",
    "    sns.violinplot(data=df, x=cat_col, y=num_col, ax=axs[0, 1])\n",
    "    axs[0, 1].set_title(f'{num_col} Distribution by {cat_col}')\n",
    "    plt.xticks(rotation=45)\n",
    "    \n",
    "    # Bar plot of means\n",
    "    means = df.groupby(cat_col)[num_col].mean().sort_values(ascending=False)\n",
    "    sns.barplot(x=means.index, y=means.values, ax=axs[1, 0])\n",
    "    axs[1, 0].set_title(f'Mean {num_col} by {cat_col}')\n",
    "    plt.xticks(rotation=45)\n",
    "    \n",
    "    # Count plot of categories\n",
    "    sns.countplot(data=df, x=cat_col, ax=axs[1, 1])\n",
    "    axs[1, 1].set_title(f'Count of {cat_col}')\n",
    "    plt.xticks(rotation=45)\n",
    "    \n",
    "    plt.tight_layout()\n",
    "    plt.show()\n",
    "    \n",
    "\n",
    "def describe_cat_cat_relationship(df, col1, col2):\n",
    "    \"\"\"تحلیل رابطه بین دو متغیر کیفی\"\"\"\n",
    "    # جدول تطبیقی\n",
    "    contingency_table = pd.crosstab(df[col1], df[col2])\n",
    "    normalized = pd.crosstab(df[col1], df[col2], normalize='index')\n",
    "    \n",
    "    # رسم نمودار\n",
    "    fig, axs = plt.subplots(2, 2, figsize=(14, 10))\n",
    "    \n",
    "    # Heatmap of contingency table\n",
    "    sns.heatmap(contingency_table, annot=True, cbar=False ,fmt='d', cmap=['White'], ax=axs[0, 0], linecolor='lightgray', linewidths=0.7)\n",
    "    axs[0, 0].set_title(f'Contingency Table: {col1} vs {col2}')\n",
    "    \n",
    "    # Stacked bar chart 100%\n",
    "    normalized.plot.bar(stacked=True, ax=axs[0, 1])\n",
    "    axs[0, 1].set_title(f'Stacked Bar: {col1} vs {col2}')\n",
    "    axs[0, 1].legend(title=col2, labels=['No', 'Yes'])\n",
    "    plt.xticks(rotation=45)\n",
    "    \n",
    "    # Normalized heatmap (percentages)\n",
    "    sns.heatmap(normalized, annot=True, fmt='.2%', cbar=False, cmap=['White'], ax=axs[1, 0], linecolor='lightgray', linewidths=0.7)\n",
    "    axs[1, 0].set_title(f'Normalized Contingency Table')\n",
    "    \n",
    "    # Count plots side by side\n",
    "    contingency_table.plot(kind='bar', ax=axs[1, 1])\n",
    "    axs[1, 1].set_title(f'Count Comparison')\n",
    "    axs[1, 1].legend(title=col2, labels=['No', 'Yes'])\n",
    "    plt.xticks(rotation=45)\n",
    "    \n",
    "    plt.tight_layout()\n",
    "    plt.show()\n",
    "    \n",
    "\n",
    "def describe_target_relationship(df, feature_col, target_col):\n",
    "    \"\"\"تحلیل رابطه هر متغیر با متغیر هدف\"\"\"\n",
    "    if df[feature_col].dtype in ['object', 'category']:\n",
    "        if df[target_col].dtype in ['object', 'category']:\n",
    "            describe_cat_cat_relationship(df, feature_col, target_col)\n",
    "        else:\n",
    "            describe_cat_num_relationship(df, feature_col, target_col)\n",
    "    else:\n",
    "        if df[target_col].dtype in ['object', 'category']:\n",
    "            describe_cat_num_relationship(df, target_col, feature_col)\n",
    "        else:\n",
    "            describe_num_num_relationship(df, feature_col, target_col)\n",
    "\n",
    "#non_prarametric\n",
    "\n",
    "def numeric_nonparm_test(test_type=\"one-sample\", *groups, alpha=0.05):\n",
    "    result = {\"test type\":test_type, \"test\": None, \"statistic\": None, \"p-value\": None, \"decision\": None}\n",
    "    stat, p_value = 0, 0\n",
    "    if test_type == \"one-sample\":\n",
    "        data = np.array(groups[0])\n",
    "        stat, p_value = stats.wilcoxon(data - np.median(data))\n",
    "        result[\"test\"] = \"Wilcoxon\"\n",
    "\n",
    "    elif test_type == \"two-independent\":\n",
    "        if len(groups) != 2:\n",
    "            raise ValueError(\"this is only for two groups!\")\n",
    "        group1, group2 = groups\n",
    "        stat, p_value = stats.mannwhitneyu(group1, group2, alternative=\"two-sided\")\n",
    "        result[\"test\"] = \"Man-Whitney-U\"\n",
    "\n",
    "    elif test_type == \"multi-independent\":\n",
    "        if len(groups) < 2:\n",
    "            raise ValueError(\"this is for more than two groups!\")\n",
    "        stat, p_value = stats.kruskal(*groups)\n",
    "        result[\"test\"] = \"Kruskal\"\n",
    "\n",
    "    elif test_type == \"variance-test\":\n",
    "        if len(groups) < 2:\n",
    "            raise ValueError(\"this is for more than two groups!\")\n",
    "        stat, p_value = stats.friedmanchisquare(*groups)\n",
    "        result[\"test\"] = \"Friedman\"\n",
    "\n",
    "    result[\"statistic\"] = stat\n",
    "    result[\"p-value\"] = p_value\n",
    "\n",
    "    if p_value < alpha:\n",
    "      result[\"decision\"] = \"Rejected\"\n",
    "    else:\n",
    "      result[\"decision\"] = \"Failed\"\n",
    "\n",
    "    print('='*48)\n",
    "    print(json.dumps(result, indent=3, sort_keys=False, default=str)) # using json.dumps for prettier printing\n",
    "    print('='*40)\n",
    "\n",
    "#parametric\n",
    "def numeric_parametric_test(test_type=\"one-sample\", *groups, alpha=0.05):\n",
    "    result = {\"test type\":test_type, \"test\": None, \"statistic\": None, \"p-value\": None, \"decision\": None}\n",
    "    stat, p_value = 0, 0\n",
    "    if test_type == \"one-sample\":\n",
    "        data = np.array(groups[0])\n",
    "        stat, p_value = stats.ttest_1samp(data, np.mean(data))\n",
    "        result[\"test\"] = \"Ttest\"\n",
    "\n",
    "    elif test_type == \"two-independent\":\n",
    "        if len(groups) != 2:\n",
    "            raise ValueError(\"this is only for two groups!\")\n",
    "        group1, group2 = groups\n",
    "        stat, p_value = stats.ttest_ind(group1, group2, equal_var=True)\n",
    "        result[\"test\"] = \"Ttest\"\n",
    "\n",
    "    elif test_type == \"paired\":\n",
    "        if len(groups) != 2:\n",
    "            raise ValueError(\"this is only for two groups!\")\n",
    "        group1, group2 = groups\n",
    "        stat, p_value = stats.ttest_rel(group1, group1)\n",
    "        result[\"test\"] = \"Ttest\"\n",
    "\n",
    "    elif test_type == \"non-equal-var\":\n",
    "        if len(groups) != 2:\n",
    "            raise ValueError(\"this is only for two groups!\")\n",
    "        group1, group2 = groups\n",
    "        stat, p_value = stats.ttest_ind(group1, group2, equal_var=False)\n",
    "        result[\"test\"] = \"Welch\"\n",
    "\n",
    "    elif test_type == \"multi-independent\":\n",
    "        if len(groups) < 2:\n",
    "            raise ValueError(\"this is for more than two groups!\")\n",
    "        stat, p_value = stats.f_oneway(*groups)\n",
    "        result[\"test\"] = \"One-Way ANOVA\"\n",
    "\n",
    "    result[\"statistic\"] = stat\n",
    "    result[\"p-value\"] = p_value\n",
    "\n",
    "    if p_value < alpha:\n",
    "      result[\"decision\"] = \"Rejected\"\n",
    "    else:\n",
    "      result[\"decision\"] = \"Failed\"\n",
    "\n",
    "    print('='*48)\n",
    "    print(json.dumps(result, indent=3, sort_keys=False, default=str)) # using json.dumps for prettier printing\n",
    "    print('='*40)\n",
    "\n",
    "def categorical_tests(test_type=\"vs-target\", data=None, column=None, target=None, alpha=0.05):\n",
    "\n",
    "    if test_type == \"vs-target\":\n",
    "        con_table = pd.crosstab(data[column], data[target])\n",
    "        stat, p_value, degree, _ = stats.chi2_contingency(con_table)\n",
    "        result = {\n",
    "            \"categories vs target\":test_type, \"chi2_stat\": stat, \"p_value\": p_value,\n",
    "            \"degrees_of_freedom\": degree,\n",
    "            \"contingency_table\": con_table.to_dict()\n",
    "        }\n",
    "        print('='*48)\n",
    "        print(json.dumps(result, indent=3, sort_keys=False, default=str)) # using json.dumps for prettier printing\n",
    "        print('='*40)\n",
    "\n",
    "    elif test_type == \"vs-categories\":\n",
    "        categories = df[column].unique()\n",
    "        category_pairs = list(combinations(categories, 2))\n",
    "        result = []\n",
    "        for group1, group2 in category_pairs:\n",
    "            subset = df[df[column].isin([group1, group2])]\n",
    "            contingency_table = pd.crosstab(subset[column], subset[target])\n",
    "            chi2, p_value, degree, _ = stats.chi2_contingency(contingency_table)\n",
    "\n",
    "        if p_value < alpha:\n",
    "            print(f\"Significant difference between '{group1}' and '{group2}': \\nChi2={chi2:.4f}, p-value={p_value:.4f}\")\n",
    "        else:\n",
    "            print(f\"No significant difference between '{group1}' and '{group2}': \\nChi2={chi2:.4f}, p-value={p_value:.4f}\")\n"
   ]
  },
  {
   "cell_type": "code",
   "execution_count": 7,
   "id": "1a5651ad",
   "metadata": {},
   "outputs": [],
   "source": [
    "df = pd.read_csv(\"marketing.csv\")"
   ]
  },
  {
   "cell_type": "code",
   "execution_count": 8,
   "id": "937a3d3c",
   "metadata": {},
   "outputs": [
    {
     "name": "stdout",
     "output_type": "stream",
     "text": [
      "اطلاعات اولیه دیتاست:\n",
      "CustomerID               0\n",
      "Age                      0\n",
      "Gender                   0\n",
      "Income                  79\n",
      "CampaignChannel        154\n",
      "CampaignType             0\n",
      "AdSpend                  0\n",
      "ClickThroughRate         0\n",
      "ConversionRate           0\n",
      "WebsiteVisits            0\n",
      "PagesPerVisit            0\n",
      "TimeOnSite              79\n",
      "SocialShares             0\n",
      "EmailOpens               0\n",
      "EmailClicks              0\n",
      "PreviousPurchases        0\n",
      "LoyaltyPoints            0\n",
      "AdvertisingPlatform      0\n",
      "AdvertisingTool          0\n",
      "Conversion               0\n",
      "dtype: int64\n",
      "CustomerID             2010\n",
      "Age                      52\n",
      "Gender                    2\n",
      "Income                 1923\n",
      "CampaignChannel           6\n",
      "CampaignType              4\n",
      "AdSpend                2010\n",
      "ClickThroughRate       2010\n",
      "ConversionRate         2010\n",
      "WebsiteVisits            50\n",
      "PagesPerVisit          2010\n",
      "TimeOnSite             1931\n",
      "SocialShares            100\n",
      "EmailOpens               20\n",
      "EmailClicks              23\n",
      "PreviousPurchases        10\n",
      "LoyaltyPoints          1659\n",
      "AdvertisingPlatform       1\n",
      "AdvertisingTool           1\n",
      "Conversion                2\n",
      "dtype: int64\n"
     ]
    }
   ],
   "source": [
    "print(\"اطلاعات اولیه دیتاست:\")\n",
    "\n",
    "\n",
    "print(df.isna().sum())\n",
    "\n",
    "print(df.nunique())"
   ]
  },
  {
   "cell_type": "code",
   "execution_count": 9,
   "id": "39707500",
   "metadata": {},
   "outputs": [
    {
     "name": "stdout",
     "output_type": "stream",
     "text": [
      "\n",
      "همه CustomerIDها منحصربه‌فرد هستند.\n"
     ]
    }
   ],
   "source": [
    "# بررسی uniqueness برای CustomerID\n",
    "if df['CustomerID'].nunique() == len(df):\n",
    "    print(\"\\nهمه CustomerIDها منحصربه‌فرد هستند.\")\n",
    "else:\n",
    "    print(\"\\nCustomerIDهای تکراری وجود دارند!\")\n",
    "    print(df[df['CustomerID'].duplicated(keep=False)])"
   ]
  },
  {
   "cell_type": "markdown",
   "id": "6a55ebd1",
   "metadata": {},
   "source": [
    "تحلیل تک متغیر و پاکسازی اطلاعات"
   ]
  },
  {
   "cell_type": "code",
   "execution_count": 13,
   "id": "4c170b81",
   "metadata": {},
   "outputs": [
    {
     "name": "stdout",
     "output_type": "stream",
     "text": [
      "\n",
      "Age\n"
     ]
    },
    {
     "data": {
      "image/png": "[encoded data removed]",
      "text/plain": [
       "<Figure size 1600x700 with 3 Axes>"
      ]
     },
     "metadata": {},
     "output_type": "display_data"
    },
    {
     "name": "stdout",
     "output_type": "stream",
     "text": [
      "================== Age ==================\n",
      "                             \n",
      "count                  2010.0\n",
      "mean                43.010448\n",
      "std                 14.740003\n",
      "min                      18.0\n",
      "25%                      30.0\n",
      "50%                      43.0\n",
      "75%                      55.0\n",
      "max                      69.0\n",
      "shapiro               0.00000\n",
      "normal                  False\n",
      "missing                     0\n",
      "skew                  0.04478\n",
      "type     right(positive)-skew\n",
      "========================================\n"
     ]
    },
    {
     "data": {
      "application/vnd.plotly.v1+json": {
       "config": {
        "plotlyServerURL": "https://plot.ly"
       },
       "data": [
        {
         "customdata": [
          [
           "Adult"
          ],
          [
           "Middle-Aged"
          ],
          [
           "Young"
          ],
          [
           "Old"
          ]
         ],
         "domain": {
          "x": [
           0,
           1
          ],
          "y": [
           0,
           1
          ]
         },
         "hole": 0.3,
         "hovertemplate": "Group=%{customdata[0]}<br>Count=%{value}<extra></extra>",
         "labels": [
          "Adult",
          "Middle-Aged",
          "Young",
          "Old"
         ],
         "legendgroup": "",
         "marker": {
          "colors": [
           "#636efa",
           "#EF553B",
           "#00cc96",
           "#ab63fa"
          ]
         },
         "name": "",
         "showlegend": true,
         "textinfo": "percent+label",
         "textposition": "inside",
         "type": "pie",
         "values": {
          "bdata": "awIuAtkBRwE=",
          "dtype": "i2"
         }
        }
       ],
       "layout": {
        "font": {
         "family": "Arial, sans-serif",
         "size": 14
        },
        "legend": {
         "title": {
          "text": "Groups"
         },
         "tracegroupgap": 0
        },
        "template": {
         "data": {
          "bar": [
           {
            "error_x": {
             "color": "#2a3f5f"
            },
            "error_y": {
             "color": "#2a3f5f"
            },
            "marker": {
             "line": {
              "color": "#E5ECF6",
              "width": 0.5
             },
             "pattern": {
              "fillmode": "overlay",
              "size": 10,
              "solidity": 0.2
             }
            },
            "type": "bar"
           }
          ],
          "barpolar": [
           {
            "marker": {
             "line": {
              "color": "#E5ECF6",
              "width": 0.5
             },
             "pattern": {
              "fillmode": "overlay",
              "size": 10,
              "solidity": 0.2
             }
            },
            "type": "barpolar"
           }
          ],
          "carpet": [
           {
            "aaxis": {
             "endlinecolor": "#2a3f5f",
             "gridcolor": "white",
             "linecolor": "white",
             "minorgridcolor": "white",
             "startlinecolor": "#2a3f5f"
            },
            "baxis": {
             "endlinecolor": "#2a3f5f",
             "gridcolor": "white",
             "linecolor": "white",
             "minorgridcolor": "white",
             "startlinecolor": "#2a3f5f"
            },
            "type": "carpet"
           }
          ],
          "choropleth": [
           {
            "colorbar": {
             "outlinewidth": 0,
             "ticks": ""
            },
            "type": "choropleth"
           }
          ],
          "contour": [
           {
            "colorbar": {
             "outlinewidth": 0,
             "ticks": ""
            },
            "colorscale": [
             [
              0,
              "#0d0887"
             ],
             [
              0.1111111111111111,
              "#46039f"
             ],
             [
              0.2222222222222222,
              "#7201a8"
             ],
             [
              0.3333333333333333,
              "#9c179e"
             ],
             [
              0.4444444444444444,
              "#bd3786"
             ],
             [
              0.5555555555555556,
              "#d8576b"
             ],
             [
              0.6666666666666666,
              "#ed7953"
             ],
             [
              0.7777777777777778,
              "#fb9f3a"
             ],
             [
              0.8888888888888888,
              "#fdca26"
             ],
             [
              1,
              "#f0f921"
             ]
            ],
            "type": "contour"
           }
          ],
          "contourcarpet": [
           {
            "colorbar": {
             "outlinewidth": 0,
             "ticks": ""
            },
            "type": "contourcarpet"
           }
          ],
          "heatmap": [
           {
            "colorbar": {
             "outlinewidth": 0,
             "ticks": ""
            },
            "colorscale": [
             [
              0,
              "#0d0887"
             ],
             [
              0.1111111111111111,
              "#46039f"
             ],
             [
              0.2222222222222222,
              "#7201a8"
             ],
             [
              0.3333333333333333,
              "#9c179e"
             ],
             [
              0.4444444444444444,
              "#bd3786"
             ],
             [
              0.5555555555555556,
              "#d8576b"
             ],
             [
              0.6666666666666666,
              "#ed7953"
             ],
             [
              0.7777777777777778,
              "#fb9f3a"
             ],
             [
              0.8888888888888888,
              "#fdca26"
             ],
             [
              1,
              "#f0f921"
             ]
            ],
            "type": "heatmap"
           }
          ],
          "histogram": [
           {
            "marker": {
             "pattern": {
              "fillmode": "overlay",
              "size": 10,
              "solidity": 0.2
             }
            },
            "type": "histogram"
           }
          ],
          "histogram2d": [
           {
            "colorbar": {
             "outlinewidth": 0,
             "ticks": ""
            },
            "colorscale": [
             [
              0,
              "#0d0887"
             ],
             [
              0.1111111111111111,
              "#46039f"
             ],
             [
              0.2222222222222222,
              "#7201a8"
             ],
             [
              0.3333333333333333,
              "#9c179e"
             ],
             [
              0.4444444444444444,
              "#bd3786"
             ],
             [
              0.5555555555555556,
              "#d8576b"
             ],
             [
              0.6666666666666666,
              "#ed7953"
             ],
             [
              0.7777777777777778,
              "#fb9f3a"
             ],
             [
              0.8888888888888888,
              "#fdca26"
             ],
             [
              1,
              "#f0f921"
             ]
            ],
            "type": "histogram2d"
           }
          ],
          "histogram2dcontour": [
           {
            "colorbar": {
             "outlinewidth": 0,
             "ticks": ""
            },
            "colorscale": [
             [
              0,
              "#0d0887"
             ],
             [
              0.1111111111111111,
              "#46039f"
             ],
             [
              0.2222222222222222,
              "#7201a8"
             ],
             [
              0.3333333333333333,
              "#9c179e"
             ],
             [
              0.4444444444444444,
              "#bd3786"
             ],
             [
              0.5555555555555556,
              "#d8576b"
             ],
             [
              0.6666666666666666,
              "#ed7953"
             ],
             [
              0.7777777777777778,
              "#fb9f3a"
             ],
             [
              0.8888888888888888,
              "#fdca26"
             ],
             [
              1,
              "#f0f921"
             ]
            ],
            "type": "histogram2dcontour"
           }
          ],
          "mesh3d": [
           {
            "colorbar": {
             "outlinewidth": 0,
             "ticks": ""
            },
            "type": "mesh3d"
           }
          ],
          "parcoords": [
           {
            "line": {
             "colorbar": {
              "outlinewidth": 0,
              "ticks": ""
             }
            },
            "type": "parcoords"
           }
          ],
          "pie": [
           {
            "automargin": true,
            "type": "pie"
           }
          ],
          "scatter": [
           {
            "fillpattern": {
             "fillmode": "overlay",
             "size": 10,
             "solidity": 0.2
            },
            "type": "scatter"
           }
          ],
          "scatter3d": [
           {
            "line": {
             "colorbar": {
              "outlinewidth": 0,
              "ticks": ""
             }
            },
            "marker": {
             "colorbar": {
              "outlinewidth": 0,
              "ticks": ""
             }
            },
            "type": "scatter3d"
           }
          ],
          "scattercarpet": [
           {
            "marker": {
             "colorbar": {
              "outlinewidth": 0,
              "ticks": ""
             }
            },
            "type": "scattercarpet"
           }
          ],
          "scattergeo": [
           {
            "marker": {
             "colorbar": {
              "outlinewidth": 0,
              "ticks": ""
             }
            },
            "type": "scattergeo"
           }
          ],
          "scattergl": [
           {
            "marker": {
             "colorbar": {
              "outlinewidth": 0,
              "ticks": ""
             }
            },
            "type": "scattergl"
           }
          ],
          "scattermap": [
           {
            "marker": {
             "colorbar": {
              "outlinewidth": 0,
              "ticks": ""
             }
            },
            "type": "scattermap"
           }
          ],
          "scattermapbox": [
           {
            "marker": {
             "colorbar": {
              "outlinewidth": 0,
              "ticks": ""
             }
            },
            "type": "scattermapbox"
           }
          ],
          "scatterpolar": [
           {
            "marker": {
             "colorbar": {
              "outlinewidth": 0,
              "ticks": ""
             }
            },
            "type": "scatterpolar"
           }
          ],
          "scatterpolargl": [
           {
            "marker": {
             "colorbar": {
              "outlinewidth": 0,
              "ticks": ""
             }
            },
            "type": "scatterpolargl"
           }
          ],
          "scatterternary": [
           {
            "marker": {
             "colorbar": {
              "outlinewidth": 0,
              "ticks": ""
             }
            },
            "type": "scatterternary"
           }
          ],
          "surface": [
           {
            "colorbar": {
             "outlinewidth": 0,
             "ticks": ""
            },
            "colorscale": [
             [
              0,
              "#0d0887"
             ],
             [
              0.1111111111111111,
              "#46039f"
             ],
             [
              0.2222222222222222,
              "#7201a8"
             ],
             [
              0.3333333333333333,
              "#9c179e"
             ],
             [
              0.4444444444444444,
              "#bd3786"
             ],
             [
              0.5555555555555556,
              "#d8576b"
             ],
             [
              0.6666666666666666,
              "#ed7953"
             ],
             [
              0.7777777777777778,
              "#fb9f3a"
             ],
             [
              0.8888888888888888,
              "#fdca26"
             ],
             [
              1,
              "#f0f921"
             ]
            ],
            "type": "surface"
           }
          ],
          "table": [
           {
            "cells": {
             "fill": {
              "color": "#EBF0F8"
             },
             "line": {
              "color": "white"
             }
            },
            "header": {
             "fill": {
              "color": "#C8D4E3"
             },
             "line": {
              "color": "white"
             }
            },
            "type": "table"
           }
          ]
         },
         "layout": {
          "annotationdefaults": {
           "arrowcolor": "#2a3f5f",
           "arrowhead": 0,
           "arrowwidth": 1
          },
          "autotypenumbers": "strict",
          "coloraxis": {
           "colorbar": {
            "outlinewidth": 0,
            "ticks": ""
           }
          },
          "colorscale": {
           "diverging": [
            [
             0,
             "#8e0152"
            ],
            [
             0.1,
             "#c51b7d"
            ],
            [
             0.2,
             "#de77ae"
            ],
            [
             0.3,
             "#f1b6da"
            ],
            [
             0.4,
             "#fde0ef"
            ],
            [
             0.5,
             "#f7f7f7"
            ],
            [
             0.6,
             "#e6f5d0"
            ],
            [
             0.7,
             "#b8e186"
            ],
            [
             0.8,
             "#7fbc41"
            ],
            [
             0.9,
             "#4d9221"
            ],
            [
             1,
             "#276419"
            ]
           ],
           "sequential": [
            [
             0,
             "#0d0887"
            ],
            [
             0.1111111111111111,
             "#46039f"
            ],
            [
             0.2222222222222222,
             "#7201a8"
            ],
            [
             0.3333333333333333,
             "#9c179e"
            ],
            [
             0.4444444444444444,
             "#bd3786"
            ],
            [
             0.5555555555555556,
             "#d8576b"
            ],
            [
             0.6666666666666666,
             "#ed7953"
            ],
            [
             0.7777777777777778,
             "#fb9f3a"
            ],
            [
             0.8888888888888888,
             "#fdca26"
            ],
            [
             1,
             "#f0f921"
            ]
           ],
           "sequentialminus": [
            [
             0,
             "#0d0887"
            ],
            [
             0.1111111111111111,
             "#46039f"
            ],
            [
             0.2222222222222222,
             "#7201a8"
            ],
            [
             0.3333333333333333,
             "#9c179e"
            ],
            [
             0.4444444444444444,
             "#bd3786"
            ],
            [
             0.5555555555555556,
             "#d8576b"
            ],
            [
             0.6666666666666666,
             "#ed7953"
            ],
            [
             0.7777777777777778,
             "#fb9f3a"
            ],
            [
             0.8888888888888888,
             "#fdca26"
            ],
            [
             1,
             "#f0f921"
            ]
           ]
          },
          "colorway": [
           "#636efa",
           "#EF553B",
           "#00cc96",
           "#ab63fa",
           "#FFA15A",
           "#19d3f3",
           "#FF6692",
           "#B6E880",
           "#FF97FF",
           "#FECB52"
          ],
          "font": {
           "color": "#2a3f5f"
          },
          "geo": {
           "bgcolor": "white",
           "lakecolor": "white",
           "landcolor": "#E5ECF6",
           "showlakes": true,
           "showland": true,
           "subunitcolor": "white"
          },
          "hoverlabel": {
           "align": "left"
          },
          "hovermode": "closest",
          "mapbox": {
           "style": "light"
          },
          "paper_bgcolor": "white",
          "plot_bgcolor": "#E5ECF6",
          "polar": {
           "angularaxis": {
            "gridcolor": "white",
            "linecolor": "white",
            "ticks": ""
           },
           "bgcolor": "#E5ECF6",
           "radialaxis": {
            "gridcolor": "white",
            "linecolor": "white",
            "ticks": ""
           }
          },
          "scene": {
           "xaxis": {
            "backgroundcolor": "#E5ECF6",
            "gridcolor": "white",
            "gridwidth": 2,
            "linecolor": "white",
            "showbackground": true,
            "ticks": "",
            "zerolinecolor": "white"
           },
           "yaxis": {
            "backgroundcolor": "#E5ECF6",
            "gridcolor": "white",
            "gridwidth": 2,
            "linecolor": "white",
            "showbackground": true,
            "ticks": "",
            "zerolinecolor": "white"
           },
           "zaxis": {
            "backgroundcolor": "#E5ECF6",
            "gridcolor": "white",
            "gridwidth": 2,
            "linecolor": "white",
            "showbackground": true,
            "ticks": "",
            "zerolinecolor": "white"
           }
          },
          "shapedefaults": {
           "line": {
            "color": "#2a3f5f"
           }
          },
          "ternary": {
           "aaxis": {
            "gridcolor": "white",
            "linecolor": "white",
            "ticks": ""
           },
           "baxis": {
            "gridcolor": "white",
            "linecolor": "white",
            "ticks": ""
           },
           "bgcolor": "#E5ECF6",
           "caxis": {
            "gridcolor": "white",
            "linecolor": "white",
            "ticks": ""
           }
          },
          "title": {
           "x": 0.05
          },
          "xaxis": {
           "automargin": true,
           "gridcolor": "white",
           "linecolor": "white",
           "ticks": "",
           "title": {
            "standoff": 15
           },
           "zerolinecolor": "white",
           "zerolinewidth": 2
          },
          "yaxis": {
           "automargin": true,
           "gridcolor": "white",
           "linecolor": "white",
           "ticks": "",
           "title": {
            "standoff": 15
           },
           "zerolinecolor": "white",
           "zerolinewidth": 2
          }
         }
        },
        "title": {
         "text": "<b>Distribution of Age_categorized in each group</b>",
         "x": 0.5
        }
       }
      }
     },
     "metadata": {},
     "output_type": "display_data"
    },
    {
     "name": "stdout",
     "output_type": "stream",
     "text": [
      "================== Age_categorized ==================\n",
      "         Group  Count      %\n",
      "0        Adult    619  31.31\n",
      "1  Middle-Aged    558  28.22\n",
      "2        Young    473  23.93\n",
      "3          Old    327  16.54\n",
      "========================================\n",
      "تعداد مقادیر گمشده در Age: 0\n",
      "\n",
      "Gender\n"
     ]
    },
    {
     "data": {
      "application/vnd.plotly.v1+json": {
       "config": {
        "plotlyServerURL": "https://plot.ly"
       },
       "data": [
        {
         "customdata": [
          [
           "Female"
          ],
          [
           "Male"
          ]
         ],
         "domain": {
          "x": [
           0,
           1
          ],
          "y": [
           0,
           1
          ]
         },
         "hole": 0.3,
         "hovertemplate": "Group=%{customdata[0]}<br>Count=%{value}<extra></extra>",
         "labels": [
          "Female",
          "Male"
         ],
         "legendgroup": "",
         "marker": {
          "colors": [
           "#636efa",
           "#EF553B"
          ]
         },
         "name": "",
         "showlegend": true,
         "textinfo": "percent+label",
         "textposition": "inside",
         "type": "pie",
         "values": {
          "bdata": "xwQTAw==",
          "dtype": "i2"
         }
        }
       ],
       "layout": {
        "font": {
         "family": "Arial, sans-serif",
         "size": 14
        },
        "legend": {
         "title": {
          "text": "Groups"
         },
         "tracegroupgap": 0
        },
        "template": {
         "data": {
          "bar": [
           {
            "error_x": {
             "color": "#2a3f5f"
            },
            "error_y": {
             "color": "#2a3f5f"
            },
            "marker": {
             "line": {
              "color": "#E5ECF6",
              "width": 0.5
             },
             "pattern": {
              "fillmode": "overlay",
              "size": 10,
              "solidity": 0.2
             }
            },
            "type": "bar"
           }
          ],
          "barpolar": [
           {
            "marker": {
             "line": {
              "color": "#E5ECF6",
              "width": 0.5
             },
             "pattern": {
              "fillmode": "overlay",
              "size": 10,
              "solidity": 0.2
             }
            },
            "type": "barpolar"
           }
          ],
          "carpet": [
           {
            "aaxis": {
             "endlinecolor": "#2a3f5f",
             "gridcolor": "white",
             "linecolor": "white",
             "minorgridcolor": "white",
             "startlinecolor": "#2a3f5f"
            },
            "baxis": {
             "endlinecolor": "#2a3f5f",
             "gridcolor": "white",
             "linecolor": "white",
             "minorgridcolor": "white",
             "startlinecolor": "#2a3f5f"
            },
            "type": "carpet"
           }
          ],
          "choropleth": [
           {
            "colorbar": {
             "outlinewidth": 0,
             "ticks": ""
            },
            "type": "choropleth"
           }
          ],
          "contour": [
           {
            "colorbar": {
             "outlinewidth": 0,
             "ticks": ""
            },
            "colorscale": [
             [
              0,
              "#0d0887"
             ],
             [
              0.1111111111111111,
              "#46039f"
             ],
             [
              0.2222222222222222,
              "#7201a8"
             ],
             [
              0.3333333333333333,
              "#9c179e"
             ],
             [
              0.4444444444444444,
              "#bd3786"
             ],
             [
              0.5555555555555556,
              "#d8576b"
             ],
             [
              0.6666666666666666,
              "#ed7953"
             ],
             [
              0.7777777777777778,
              "#fb9f3a"
             ],
             [
              0.8888888888888888,
              "#fdca26"
             ],
             [
              1,
              "#f0f921"
             ]
            ],
            "type": "contour"
           }
          ],
          "contourcarpet": [
           {
            "colorbar": {
             "outlinewidth": 0,
             "ticks": ""
            },
            "type": "contourcarpet"
           }
          ],
          "heatmap": [
           {
            "colorbar": {
             "outlinewidth": 0,
             "ticks": ""
            },
            "colorscale": [
             [
              0,
              "#0d0887"
             ],
             [
              0.1111111111111111,
              "#46039f"
             ],
             [
              0.2222222222222222,
              "#7201a8"
             ],
             [
              0.3333333333333333,
              "#9c179e"
             ],
             [
              0.4444444444444444,
              "#bd3786"
             ],
             [
              0.5555555555555556,
              "#d8576b"
             ],
             [
              0.6666666666666666,
              "#ed7953"
             ],
             [
              0.7777777777777778,
              "#fb9f3a"
             ],
             [
              0.8888888888888888,
              "#fdca26"
             ],
             [
              1,
              "#f0f921"
             ]
            ],
            "type": "heatmap"
           }
          ],
          "histogram": [
           {
            "marker": {
             "pattern": {
              "fillmode": "overlay",
              "size": 10,
              "solidity": 0.2
             }
            },
            "type": "histogram"
           }
          ],
          "histogram2d": [
           {
            "colorbar": {
             "outlinewidth": 0,
             "ticks": ""
            },
            "colorscale": [
             [
              0,
              "#0d0887"
             ],
             [
              0.1111111111111111,
              "#46039f"
             ],
             [
              0.2222222222222222,
              "#7201a8"
             ],
             [
              0.3333333333333333,
              "#9c179e"
             ],
             [
              0.4444444444444444,
              "#bd3786"
             ],
             [
              0.5555555555555556,
              "#d8576b"
             ],
             [
              0.6666666666666666,
              "#ed7953"
             ],
             [
              0.7777777777777778,
              "#fb9f3a"
             ],
             [
              0.8888888888888888,
              "#fdca26"
             ],
             [
              1,
              "#f0f921"
             ]
            ],
            "type": "histogram2d"
           }
          ],
          "histogram2dcontour": [
           {
            "colorbar": {
             "outlinewidth": 0,
             "ticks": ""
            },
            "colorscale": [
             [
              0,
              "#0d0887"
             ],
             [
              0.1111111111111111,
              "#46039f"
             ],
             [
              0.2222222222222222,
              "#7201a8"
             ],
             [
              0.3333333333333333,
              "#9c179e"
             ],
             [
              0.4444444444444444,
              "#bd3786"
             ],
             [
              0.5555555555555556,
              "#d8576b"
             ],
             [
              0.6666666666666666,
              "#ed7953"
             ],
             [
              0.7777777777777778,
              "#fb9f3a"
             ],
             [
              0.8888888888888888,
              "#fdca26"
             ],
             [
              1,
              "#f0f921"
             ]
            ],
            "type": "histogram2dcontour"
           }
          ],
          "mesh3d": [
           {
            "colorbar": {
             "outlinewidth": 0,
             "ticks": ""
            },
            "type": "mesh3d"
           }
          ],
          "parcoords": [
           {
            "line": {
             "colorbar": {
              "outlinewidth": 0,
              "ticks": ""
             }
            },
            "type": "parcoords"
           }
          ],
          "pie": [
           {
            "automargin": true,
            "type": "pie"
           }
          ],
          "scatter": [
           {
            "fillpattern": {
             "fillmode": "overlay",
             "size": 10,
             "solidity": 0.2
            },
            "type": "scatter"
           }
          ],
          "scatter3d": [
           {
            "line": {
             "colorbar": {
              "outlinewidth": 0,
              "ticks": ""
             }
            },
            "marker": {
             "colorbar": {
              "outlinewidth": 0,
              "ticks": ""
             }
            },
            "type": "scatter3d"
           }
          ],
          "scattercarpet": [
           {
            "marker": {
             "colorbar": {
              "outlinewidth": 0,
              "ticks": ""
             }
            },
            "type": "scattercarpet"
           }
          ],
          "scattergeo": [
           {
            "marker": {
             "colorbar": {
              "outlinewidth": 0,
              "ticks": ""
             }
            },
            "type": "scattergeo"
           }
          ],
          "scattergl": [
           {
            "marker": {
             "colorbar": {
              "outlinewidth": 0,
              "ticks": ""
             }
            },
            "type": "scattergl"
           }
          ],
          "scattermap": [
           {
            "marker": {
             "colorbar": {
              "outlinewidth": 0,
              "ticks": ""
             }
            },
            "type": "scattermap"
           }
          ],
          "scattermapbox": [
           {
            "marker": {
             "colorbar": {
              "outlinewidth": 0,
              "ticks": ""
             }
            },
            "type": "scattermapbox"
           }
          ],
          "scatterpolar": [
           {
            "marker": {
             "colorbar": {
              "outlinewidth": 0,
              "ticks": ""
             }
            },
            "type": "scatterpolar"
           }
          ],
          "scatterpolargl": [
           {
            "marker": {
             "colorbar": {
              "outlinewidth": 0,
              "ticks": ""
             }
            },
            "type": "scatterpolargl"
           }
          ],
          "scatterternary": [
           {
            "marker": {
             "colorbar": {
              "outlinewidth": 0,
              "ticks": ""
             }
            },
            "type": "scatterternary"
           }
          ],
          "surface": [
           {
            "colorbar": {
             "outlinewidth": 0,
             "ticks": ""
            },
            "colorscale": [
             [
              0,
              "#0d0887"
             ],
             [
              0.1111111111111111,
              "#46039f"
             ],
             [
              0.2222222222222222,
              "#7201a8"
             ],
             [
              0.3333333333333333,
              "#9c179e"
             ],
             [
              0.4444444444444444,
              "#bd3786"
             ],
             [
              0.5555555555555556,
              "#d8576b"
             ],
             [
              0.6666666666666666,
              "#ed7953"
             ],
             [
              0.7777777777777778,
              "#fb9f3a"
             ],
             [
              0.8888888888888888,
              "#fdca26"
             ],
             [
              1,
              "#f0f921"
             ]
            ],
            "type": "surface"
           }
          ],
          "table": [
           {
            "cells": {
             "fill": {
              "color": "#EBF0F8"
             },
             "line": {
              "color": "white"
             }
            },
            "header": {
             "fill": {
              "color": "#C8D4E3"
             },
             "line": {
              "color": "white"
             }
            },
            "type": "table"
           }
          ]
         },
         "layout": {
          "annotationdefaults": {
           "arrowcolor": "#2a3f5f",
           "arrowhead": 0,
           "arrowwidth": 1
          },
          "autotypenumbers": "strict",
          "coloraxis": {
           "colorbar": {
            "outlinewidth": 0,
            "ticks": ""
           }
          },
          "colorscale": {
           "diverging": [
            [
             0,
             "#8e0152"
            ],
            [
             0.1,
             "#c51b7d"
            ],
            [
             0.2,
             "#de77ae"
            ],
            [
             0.3,
             "#f1b6da"
            ],
            [
             0.4,
             "#fde0ef"
            ],
            [
             0.5,
             "#f7f7f7"
            ],
            [
             0.6,
             "#e6f5d0"
            ],
            [
             0.7,
             "#b8e186"
            ],
            [
             0.8,
             "#7fbc41"
            ],
            [
             0.9,
             "#4d9221"
            ],
            [
             1,
             "#276419"
            ]
           ],
           "sequential": [
            [
             0,
             "#0d0887"
            ],
            [
             0.1111111111111111,
             "#46039f"
            ],
            [
             0.2222222222222222,
             "#7201a8"
            ],
            [
             0.3333333333333333,
             "#9c179e"
            ],
            [
             0.4444444444444444,
             "#bd3786"
            ],
            [
             0.5555555555555556,
             "#d8576b"
            ],
            [
             0.6666666666666666,
             "#ed7953"
            ],
            [
             0.7777777777777778,
             "#fb9f3a"
            ],
            [
             0.8888888888888888,
             "#fdca26"
            ],
            [
             1,
             "#f0f921"
            ]
           ],
           "sequentialminus": [
            [
             0,
             "#0d0887"
            ],
            [
             0.1111111111111111,
             "#46039f"
            ],
            [
             0.2222222222222222,
             "#7201a8"
            ],
            [
             0.3333333333333333,
             "#9c179e"
            ],
            [
             0.4444444444444444,
             "#bd3786"
            ],
            [
             0.5555555555555556,
             "#d8576b"
            ],
            [
             0.6666666666666666,
             "#ed7953"
            ],
            [
             0.7777777777777778,
             "#fb9f3a"
            ],
            [
             0.8888888888888888,
             "#fdca26"
            ],
            [
             1,
             "#f0f921"
            ]
           ]
          },
          "colorway": [
           "#636efa",
           "#EF553B",
           "#00cc96",
           "#ab63fa",
           "#FFA15A",
           "#19d3f3",
           "#FF6692",
           "#B6E880",
           "#FF97FF",
           "#FECB52"
          ],
          "font": {
           "color": "#2a3f5f"
          },
          "geo": {
           "bgcolor": "white",
           "lakecolor": "white",
           "landcolor": "#E5ECF6",
           "showlakes": true,
           "showland": true,
           "subunitcolor": "white"
          },
          "hoverlabel": {
           "align": "left"
          },
          "hovermode": "closest",
          "mapbox": {
           "style": "light"
          },
          "paper_bgcolor": "white",
          "plot_bgcolor": "#E5ECF6",
          "polar": {
           "angularaxis": {
            "gridcolor": "white",
            "linecolor": "white",
            "ticks": ""
           },
           "bgcolor": "#E5ECF6",
           "radialaxis": {
            "gridcolor": "white",
            "linecolor": "white",
            "ticks": ""
           }
          },
          "scene": {
           "xaxis": {
            "backgroundcolor": "#E5ECF6",
            "gridcolor": "white",
            "gridwidth": 2,
            "linecolor": "white",
            "showbackground": true,
            "ticks": "",
            "zerolinecolor": "white"
           },
           "yaxis": {
            "backgroundcolor": "#E5ECF6",
            "gridcolor": "white",
            "gridwidth": 2,
            "linecolor": "white",
            "showbackground": true,
            "ticks": "",
            "zerolinecolor": "white"
           },
           "zaxis": {
            "backgroundcolor": "#E5ECF6",
            "gridcolor": "white",
            "gridwidth": 2,
            "linecolor": "white",
            "showbackground": true,
            "ticks": "",
            "zerolinecolor": "white"
           }
          },
          "shapedefaults": {
           "line": {
            "color": "#2a3f5f"
           }
          },
          "ternary": {
           "aaxis": {
            "gridcolor": "white",
            "linecolor": "white",
            "ticks": ""
           },
           "baxis": {
            "gridcolor": "white",
            "linecolor": "white",
            "ticks": ""
           },
           "bgcolor": "#E5ECF6",
           "caxis": {
            "gridcolor": "white",
            "linecolor": "white",
            "ticks": ""
           }
          },
          "title": {
           "x": 0.05
          },
          "xaxis": {
           "automargin": true,
           "gridcolor": "white",
           "linecolor": "white",
           "ticks": "",
           "title": {
            "standoff": 15
           },
           "zerolinecolor": "white",
           "zerolinewidth": 2
          },
          "yaxis": {
           "automargin": true,
           "gridcolor": "white",
           "linecolor": "white",
           "ticks": "",
           "title": {
            "standoff": 15
           },
           "zerolinecolor": "white",
           "zerolinewidth": 2
          }
         }
        },
        "title": {
         "text": "<b>Distribution of Gender in each group</b>",
         "x": 0.5
        }
       }
      }
     },
     "metadata": {},
     "output_type": "display_data"
    },
    {
     "name": "stdout",
     "output_type": "stream",
     "text": [
      "================== Gender ==================\n",
      "    Group  Count      %\n",
      "0  Female   1223  60.85\n",
      "1    Male    787  39.15\n",
      "========================================\n",
      "تعداد مقادیر گمشده در Gender: 0\n",
      "مقادیر یکتا در Gender: ['Female' 'Male']\n"
     ]
    },
    {
     "data": {
      "application/vnd.plotly.v1+json": {
       "config": {
        "plotlyServerURL": "https://plot.ly"
       },
       "data": [
        {
         "customdata": [
          [
           "Female"
          ],
          [
           "Male"
          ]
         ],
         "domain": {
          "x": [
           0,
           1
          ],
          "y": [
           0,
           1
          ]
         },
         "hole": 0.3,
         "hovertemplate": "Group=%{customdata[0]}<br>Count=%{value}<extra></extra>",
         "labels": [
          "Female",
          "Male"
         ],
         "legendgroup": "",
         "marker": {
          "colors": [
           "#636efa",
           "#EF553B"
          ]
         },
         "name": "",
         "showlegend": true,
         "textinfo": "percent+label",
         "textposition": "inside",
         "type": "pie",
         "values": {
          "bdata": "xwQTAw==",
          "dtype": "i2"
         }
        }
       ],
       "layout": {
        "font": {
         "family": "Arial, sans-serif",
         "size": 14
        },
        "legend": {
         "title": {
          "text": "Groups"
         },
         "tracegroupgap": 0
        },
        "template": {
         "data": {
          "bar": [
           {
            "error_x": {
             "color": "#2a3f5f"
            },
            "error_y": {
             "color": "#2a3f5f"
            },
            "marker": {
             "line": {
              "color": "#E5ECF6",
              "width": 0.5
             },
             "pattern": {
              "fillmode": "overlay",
              "size": 10,
              "solidity": 0.2
             }
            },
            "type": "bar"
           }
          ],
          "barpolar": [
           {
            "marker": {
             "line": {
              "color": "#E5ECF6",
              "width": 0.5
             },
             "pattern": {
              "fillmode": "overlay",
              "size": 10,
              "solidity": 0.2
             }
            },
            "type": "barpolar"
           }
          ],
          "carpet": [
           {
            "aaxis": {
             "endlinecolor": "#2a3f5f",
             "gridcolor": "white",
             "linecolor": "white",
             "minorgridcolor": "white",
             "startlinecolor": "#2a3f5f"
            },
            "baxis": {
             "endlinecolor": "#2a3f5f",
             "gridcolor": "white",
             "linecolor": "white",
             "minorgridcolor": "white",
             "startlinecolor": "#2a3f5f"
            },
            "type": "carpet"
           }
          ],
          "choropleth": [
           {
            "colorbar": {
             "outlinewidth": 0,
             "ticks": ""
            },
            "type": "choropleth"
           }
          ],
          "contour": [
           {
            "colorbar": {
             "outlinewidth": 0,
             "ticks": ""
            },
            "colorscale": [
             [
              0,
              "#0d0887"
             ],
             [
              0.1111111111111111,
              "#46039f"
             ],
             [
              0.2222222222222222,
              "#7201a8"
             ],
             [
              0.3333333333333333,
              "#9c179e"
             ],
             [
              0.4444444444444444,
              "#bd3786"
             ],
             [
              0.5555555555555556,
              "#d8576b"
             ],
             [
              0.6666666666666666,
              "#ed7953"
             ],
             [
              0.7777777777777778,
              "#fb9f3a"
             ],
             [
              0.8888888888888888,
              "#fdca26"
             ],
             [
              1,
              "#f0f921"
             ]
            ],
            "type": "contour"
           }
          ],
          "contourcarpet": [
           {
            "colorbar": {
             "outlinewidth": 0,
             "ticks": ""
            },
            "type": "contourcarpet"
           }
          ],
          "heatmap": [
           {
            "colorbar": {
             "outlinewidth": 0,
             "ticks": ""
            },
            "colorscale": [
             [
              0,
              "#0d0887"
             ],
             [
              0.1111111111111111,
              "#46039f"
             ],
             [
              0.2222222222222222,
              "#7201a8"
             ],
             [
              0.3333333333333333,
              "#9c179e"
             ],
             [
              0.4444444444444444,
              "#bd3786"
             ],
             [
              0.5555555555555556,
              "#d8576b"
             ],
             [
              0.6666666666666666,
              "#ed7953"
             ],
             [
              0.7777777777777778,
              "#fb9f3a"
             ],
             [
              0.8888888888888888,
              "#fdca26"
             ],
             [
              1,
              "#f0f921"
             ]
            ],
            "type": "heatmap"
           }
          ],
          "histogram": [
           {
            "marker": {
             "pattern": {
              "fillmode": "overlay",
              "size": 10,
              "solidity": 0.2
             }
            },
            "type": "histogram"
           }
          ],
          "histogram2d": [
           {
            "colorbar": {
             "outlinewidth": 0,
             "ticks": ""
            },
            "colorscale": [
             [
              0,
              "#0d0887"
             ],
             [
              0.1111111111111111,
              "#46039f"
             ],
             [
              0.2222222222222222,
              "#7201a8"
             ],
             [
              0.3333333333333333,
              "#9c179e"
             ],
             [
              0.4444444444444444,
              "#bd3786"
             ],
             [
              0.5555555555555556,
              "#d8576b"
             ],
             [
              0.6666666666666666,
              "#ed7953"
             ],
             [
              0.7777777777777778,
              "#fb9f3a"
             ],
             [
              0.8888888888888888,
              "#fdca26"
             ],
             [
              1,
              "#f0f921"
             ]
            ],
            "type": "histogram2d"
           }
          ],
          "histogram2dcontour": [
           {
            "colorbar": {
             "outlinewidth": 0,
             "ticks": ""
            },
            "colorscale": [
             [
              0,
              "#0d0887"
             ],
             [
              0.1111111111111111,
              "#46039f"
             ],
             [
              0.2222222222222222,
              "#7201a8"
             ],
             [
              0.3333333333333333,
              "#9c179e"
             ],
             [
              0.4444444444444444,
              "#bd3786"
             ],
             [
              0.5555555555555556,
              "#d8576b"
             ],
             [
              0.6666666666666666,
              "#ed7953"
             ],
             [
              0.7777777777777778,
              "#fb9f3a"
             ],
             [
              0.8888888888888888,
              "#fdca26"
             ],
             [
              1,
              "#f0f921"
             ]
            ],
            "type": "histogram2dcontour"
           }
          ],
          "mesh3d": [
           {
            "colorbar": {
             "outlinewidth": 0,
             "ticks": ""
            },
            "type": "mesh3d"
           }
          ],
          "parcoords": [
           {
            "line": {
             "colorbar": {
              "outlinewidth": 0,
              "ticks": ""
             }
            },
            "type": "parcoords"
           }
          ],
          "pie": [
           {
            "automargin": true,
            "type": "pie"
           }
          ],
          "scatter": [
           {
            "fillpattern": {
             "fillmode": "overlay",
             "size": 10,
             "solidity": 0.2
            },
            "type": "scatter"
           }
          ],
          "scatter3d": [
           {
            "line": {
             "colorbar": {
              "outlinewidth": 0,
              "ticks": ""
             }
            },
            "marker": {
             "colorbar": {
              "outlinewidth": 0,
              "ticks": ""
             }
            },
            "type": "scatter3d"
           }
          ],
          "scattercarpet": [
           {
            "marker": {
             "colorbar": {
              "outlinewidth": 0,
              "ticks": ""
             }
            },
            "type": "scattercarpet"
           }
          ],
          "scattergeo": [
           {
            "marker": {
             "colorbar": {
              "outlinewidth": 0,
              "ticks": ""
             }
            },
            "type": "scattergeo"
           }
          ],
          "scattergl": [
           {
            "marker": {
             "colorbar": {
              "outlinewidth": 0,
              "ticks": ""
             }
            },
            "type": "scattergl"
           }
          ],
          "scattermap": [
           {
            "marker": {
             "colorbar": {
              "outlinewidth": 0,
              "ticks": ""
             }
            },
            "type": "scattermap"
           }
          ],
          "scattermapbox": [
           {
            "marker": {
             "colorbar": {
              "outlinewidth": 0,
              "ticks": ""
             }
            },
            "type": "scattermapbox"
           }
          ],
          "scatterpolar": [
           {
            "marker": {
             "colorbar": {
              "outlinewidth": 0,
              "ticks": ""
             }
            },
            "type": "scatterpolar"
           }
          ],
          "scatterpolargl": [
           {
            "marker": {
             "colorbar": {
              "outlinewidth": 0,
              "ticks": ""
             }
            },
            "type": "scatterpolargl"
           }
          ],
          "scatterternary": [
           {
            "marker": {
             "colorbar": {
              "outlinewidth": 0,
              "ticks": ""
             }
            },
            "type": "scatterternary"
           }
          ],
          "surface": [
           {
            "colorbar": {
             "outlinewidth": 0,
             "ticks": ""
            },
            "colorscale": [
             [
              0,
              "#0d0887"
             ],
             [
              0.1111111111111111,
              "#46039f"
             ],
             [
              0.2222222222222222,
              "#7201a8"
             ],
             [
              0.3333333333333333,
              "#9c179e"
             ],
             [
              0.4444444444444444,
              "#bd3786"
             ],
             [
              0.5555555555555556,
              "#d8576b"
             ],
             [
              0.6666666666666666,
              "#ed7953"
             ],
             [
              0.7777777777777778,
              "#fb9f3a"
             ],
             [
              0.8888888888888888,
              "#fdca26"
             ],
             [
              1,
              "#f0f921"
             ]
            ],
            "type": "surface"
           }
          ],
          "table": [
           {
            "cells": {
             "fill": {
              "color": "#EBF0F8"
             },
             "line": {
              "color": "white"
             }
            },
            "header": {
             "fill": {
              "color": "#C8D4E3"
             },
             "line": {
              "color": "white"
             }
            },
            "type": "table"
           }
          ]
         },
         "layout": {
          "annotationdefaults": {
           "arrowcolor": "#2a3f5f",
           "arrowhead": 0,
           "arrowwidth": 1
          },
          "autotypenumbers": "strict",
          "coloraxis": {
           "colorbar": {
            "outlinewidth": 0,
            "ticks": ""
           }
          },
          "colorscale": {
           "diverging": [
            [
             0,
             "#8e0152"
            ],
            [
             0.1,
             "#c51b7d"
            ],
            [
             0.2,
             "#de77ae"
            ],
            [
             0.3,
             "#f1b6da"
            ],
            [
             0.4,
             "#fde0ef"
            ],
            [
             0.5,
             "#f7f7f7"
            ],
            [
             0.6,
             "#e6f5d0"
            ],
            [
             0.7,
             "#b8e186"
            ],
            [
             0.8,
             "#7fbc41"
            ],
            [
             0.9,
             "#4d9221"
            ],
            [
             1,
             "#276419"
            ]
           ],
           "sequential": [
            [
             0,
             "#0d0887"
            ],
            [
             0.1111111111111111,
             "#46039f"
            ],
            [
             0.2222222222222222,
             "#7201a8"
            ],
            [
             0.3333333333333333,
             "#9c179e"
            ],
            [
             0.4444444444444444,
             "#bd3786"
            ],
            [
             0.5555555555555556,
             "#d8576b"
            ],
            [
             0.6666666666666666,
             "#ed7953"
            ],
            [
             0.7777777777777778,
             "#fb9f3a"
            ],
            [
             0.8888888888888888,
             "#fdca26"
            ],
            [
             1,
             "#f0f921"
            ]
           ],
           "sequentialminus": [
            [
             0,
             "#0d0887"
            ],
            [
             0.1111111111111111,
             "#46039f"
            ],
            [
             0.2222222222222222,
             "#7201a8"
            ],
            [
             0.3333333333333333,
             "#9c179e"
            ],
            [
             0.4444444444444444,
             "#bd3786"
            ],
            [
             0.5555555555555556,
             "#d8576b"
            ],
            [
             0.6666666666666666,
             "#ed7953"
            ],
            [
             0.7777777777777778,
             "#fb9f3a"
            ],
            [
             0.8888888888888888,
             "#fdca26"
            ],
            [
             1,
             "#f0f921"
            ]
           ]
          },
          "colorway": [
           "#636efa",
           "#EF553B",
           "#00cc96",
           "#ab63fa",
           "#FFA15A",
           "#19d3f3",
           "#FF6692",
           "#B6E880",
           "#FF97FF",
           "#FECB52"
          ],
          "font": {
           "color": "#2a3f5f"
          },
          "geo": {
           "bgcolor": "white",
           "lakecolor": "white",
           "landcolor": "#E5ECF6",
           "showlakes": true,
           "showland": true,
           "subunitcolor": "white"
          },
          "hoverlabel": {
           "align": "left"
          },
          "hovermode": "closest",
          "mapbox": {
           "style": "light"
          },
          "paper_bgcolor": "white",
          "plot_bgcolor": "#E5ECF6",
          "polar": {
           "angularaxis": {
            "gridcolor": "white",
            "linecolor": "white",
            "ticks": ""
           },
           "bgcolor": "#E5ECF6",
           "radialaxis": {
            "gridcolor": "white",
            "linecolor": "white",
            "ticks": ""
           }
          },
          "scene": {
           "xaxis": {
            "backgroundcolor": "#E5ECF6",
            "gridcolor": "white",
            "gridwidth": 2,
            "linecolor": "white",
            "showbackground": true,
            "ticks": "",
            "zerolinecolor": "white"
           },
           "yaxis": {
            "backgroundcolor": "#E5ECF6",
            "gridcolor": "white",
            "gridwidth": 2,
            "linecolor": "white",
            "showbackground": true,
            "ticks": "",
            "zerolinecolor": "white"
           },
           "zaxis": {
            "backgroundcolor": "#E5ECF6",
            "gridcolor": "white",
            "gridwidth": 2,
            "linecolor": "white",
            "showbackground": true,
            "ticks": "",
            "zerolinecolor": "white"
           }
          },
          "shapedefaults": {
           "line": {
            "color": "#2a3f5f"
           }
          },
          "ternary": {
           "aaxis": {
            "gridcolor": "white",
            "linecolor": "white",
            "ticks": ""
           },
           "baxis": {
            "gridcolor": "white",
            "linecolor": "white",
            "ticks": ""
           },
           "bgcolor": "#E5ECF6",
           "caxis": {
            "gridcolor": "white",
            "linecolor": "white",
            "ticks": ""
           }
          },
          "title": {
           "x": 0.05
          },
          "xaxis": {
           "automargin": true,
           "gridcolor": "white",
           "linecolor": "white",
           "ticks": "",
           "title": {
            "standoff": 15
           },
           "zerolinecolor": "white",
           "zerolinewidth": 2
          },
          "yaxis": {
           "automargin": true,
           "gridcolor": "white",
           "linecolor": "white",
           "ticks": "",
           "title": {
            "standoff": 15
           },
           "zerolinecolor": "white",
           "zerolinewidth": 2
          }
         }
        },
        "title": {
         "text": "<b>Distribution of Gender in each group</b>",
         "x": 0.5
        }
       }
      }
     },
     "metadata": {},
     "output_type": "display_data"
    },
    {
     "name": "stdout",
     "output_type": "stream",
     "text": [
      "================== Gender ==================\n",
      "    Group  Count      %\n",
      "0  Female   1223  60.85\n",
      "1    Male    787  39.15\n",
      "========================================\n",
      "\n",
      "Income\n",
      "تعداد مقادیر گمشده در Income: 0\n"
     ]
    },
    {
     "data": {
      "image/png": "[encoded data removed]",
      "text/plain": [
       "<Figure size 1600x700 with 3 Axes>"
      ]
     },
     "metadata": {},
     "output_type": "display_data"
    },
    {
     "name": "stdout",
     "output_type": "stream",
     "text": [
      "================== Income ==================\n",
      "                             \n",
      "count                  2010.0\n",
      "mean             95933.934328\n",
      "std             106571.274572\n",
      "min                   20014.0\n",
      "25%                  55001.25\n",
      "50%                   86481.0\n",
      "75%                  117053.0\n",
      "max                 1470150.0\n",
      "shapiro               0.00000\n",
      "normal                  False\n",
      "missing                     0\n",
      "skew                  8.73299\n",
      "type     right(positive)-skew\n",
      "========================================\n"
     ]
    },
    {
     "data": {
      "application/vnd.plotly.v1+json": {
       "config": {
        "plotlyServerURL": "https://plot.ly"
       },
       "data": [
        {
         "customdata": [
          [
           "Medium"
          ],
          [
           "Very High"
          ],
          [
           "Low"
          ],
          [
           "High"
          ]
         ],
         "domain": {
          "x": [
           0,
           1
          ],
          "y": [
           0,
           1
          ]
         },
         "hole": 0.3,
         "hovertemplate": "Group=%{customdata[0]}<br>Count=%{value}<extra></extra>",
         "labels": [
          "Medium",
          "Very High",
          "Low",
          "High"
         ],
         "legendgroup": "",
         "marker": {
          "colors": [
           "#636efa",
           "#EF553B",
           "#00cc96",
           "#ab63fa"
          ]
         },
         "name": "",
         "showlegend": true,
         "textinfo": "percent+label",
         "textposition": "inside",
         "type": "pie",
         "values": {
          "bdata": "HgL3AfYBzgE=",
          "dtype": "i2"
         }
        }
       ],
       "layout": {
        "font": {
         "family": "Arial, sans-serif",
         "size": 14
        },
        "legend": {
         "title": {
          "text": "Groups"
         },
         "tracegroupgap": 0
        },
        "template": {
         "data": {
          "bar": [
           {
            "error_x": {
             "color": "#2a3f5f"
            },
            "error_y": {
             "color": "#2a3f5f"
            },
            "marker": {
             "line": {
              "color": "#E5ECF6",
              "width": 0.5
             },
             "pattern": {
              "fillmode": "overlay",
              "size": 10,
              "solidity": 0.2
             }
            },
            "type": "bar"
           }
          ],
          "barpolar": [
           {
            "marker": {
             "line": {
              "color": "#E5ECF6",
              "width": 0.5
             },
             "pattern": {
              "fillmode": "overlay",
              "size": 10,
              "solidity": 0.2
             }
            },
            "type": "barpolar"
           }
          ],
          "carpet": [
           {
            "aaxis": {
             "endlinecolor": "#2a3f5f",
             "gridcolor": "white",
             "linecolor": "white",
             "minorgridcolor": "white",
             "startlinecolor": "#2a3f5f"
            },
            "baxis": {
             "endlinecolor": "#2a3f5f",
             "gridcolor": "white",
             "linecolor": "white",
             "minorgridcolor": "white",
             "startlinecolor": "#2a3f5f"
            },
            "type": "carpet"
           }
          ],
          "choropleth": [
           {
            "colorbar": {
             "outlinewidth": 0,
             "ticks": ""
            },
            "type": "choropleth"
           }
          ],
          "contour": [
           {
            "colorbar": {
             "outlinewidth": 0,
             "ticks": ""
            },
            "colorscale": [
             [
              0,
              "#0d0887"
             ],
             [
              0.1111111111111111,
              "#46039f"
             ],
             [
              0.2222222222222222,
              "#7201a8"
             ],
             [
              0.3333333333333333,
              "#9c179e"
             ],
             [
              0.4444444444444444,
              "#bd3786"
             ],
             [
              0.5555555555555556,
              "#d8576b"
             ],
             [
              0.6666666666666666,
              "#ed7953"
             ],
             [
              0.7777777777777778,
              "#fb9f3a"
             ],
             [
              0.8888888888888888,
              "#fdca26"
             ],
             [
              1,
              "#f0f921"
             ]
            ],
            "type": "contour"
           }
          ],
          "contourcarpet": [
           {
            "colorbar": {
             "outlinewidth": 0,
             "ticks": ""
            },
            "type": "contourcarpet"
           }
          ],
          "heatmap": [
           {
            "colorbar": {
             "outlinewidth": 0,
             "ticks": ""
            },
            "colorscale": [
             [
              0,
              "#0d0887"
             ],
             [
              0.1111111111111111,
              "#46039f"
             ],
             [
              0.2222222222222222,
              "#7201a8"
             ],
             [
              0.3333333333333333,
              "#9c179e"
             ],
             [
              0.4444444444444444,
              "#bd3786"
             ],
             [
              0.5555555555555556,
              "#d8576b"
             ],
             [
              0.6666666666666666,
              "#ed7953"
             ],
             [
              0.7777777777777778,
              "#fb9f3a"
             ],
             [
              0.8888888888888888,
              "#fdca26"
             ],
             [
              1,
              "#f0f921"
             ]
            ],
            "type": "heatmap"
           }
          ],
          "histogram": [
           {
            "marker": {
             "pattern": {
              "fillmode": "overlay",
              "size": 10,
              "solidity": 0.2
             }
            },
            "type": "histogram"
           }
          ],
          "histogram2d": [
           {
            "colorbar": {
             "outlinewidth": 0,
             "ticks": ""
            },
            "colorscale": [
             [
              0,
              "#0d0887"
             ],
             [
              0.1111111111111111,
              "#46039f"
             ],
             [
              0.2222222222222222,
              "#7201a8"
             ],
             [
              0.3333333333333333,
              "#9c179e"
             ],
             [
              0.4444444444444444,
              "#bd3786"
             ],
             [
              0.5555555555555556,
              "#d8576b"
             ],
             [
              0.6666666666666666,
              "#ed7953"
             ],
             [
              0.7777777777777778,
              "#fb9f3a"
             ],
             [
              0.8888888888888888,
              "#fdca26"
             ],
             [
              1,
              "#f0f921"
             ]
            ],
            "type": "histogram2d"
           }
          ],
          "histogram2dcontour": [
           {
            "colorbar": {
             "outlinewidth": 0,
             "ticks": ""
            },
            "colorscale": [
             [
              0,
              "#0d0887"
             ],
             [
              0.1111111111111111,
              "#46039f"
             ],
             [
              0.2222222222222222,
              "#7201a8"
             ],
             [
              0.3333333333333333,
              "#9c179e"
             ],
             [
              0.4444444444444444,
              "#bd3786"
             ],
             [
              0.5555555555555556,
              "#d8576b"
             ],
             [
              0.6666666666666666,
              "#ed7953"
             ],
             [
              0.7777777777777778,
              "#fb9f3a"
             ],
             [
              0.8888888888888888,
              "#fdca26"
             ],
             [
              1,
              "#f0f921"
             ]
            ],
            "type": "histogram2dcontour"
           }
          ],
          "mesh3d": [
           {
            "colorbar": {
             "outlinewidth": 0,
             "ticks": ""
            },
            "type": "mesh3d"
           }
          ],
          "parcoords": [
           {
            "line": {
             "colorbar": {
              "outlinewidth": 0,
              "ticks": ""
             }
            },
            "type": "parcoords"
           }
          ],
          "pie": [
           {
            "automargin": true,
            "type": "pie"
           }
          ],
          "scatter": [
           {
            "fillpattern": {
             "fillmode": "overlay",
             "size": 10,
             "solidity": 0.2
            },
            "type": "scatter"
           }
          ],
          "scatter3d": [
           {
            "line": {
             "colorbar": {
              "outlinewidth": 0,
              "ticks": ""
             }
            },
            "marker": {
             "colorbar": {
              "outlinewidth": 0,
              "ticks": ""
             }
            },
            "type": "scatter3d"
           }
          ],
          "scattercarpet": [
           {
            "marker": {
             "colorbar": {
              "outlinewidth": 0,
              "ticks": ""
             }
            },
            "type": "scattercarpet"
           }
          ],
          "scattergeo": [
           {
            "marker": {
             "colorbar": {
              "outlinewidth": 0,
              "ticks": ""
             }
            },
            "type": "scattergeo"
           }
          ],
          "scattergl": [
           {
            "marker": {
             "colorbar": {
              "outlinewidth": 0,
              "ticks": ""
             }
            },
            "type": "scattergl"
           }
          ],
          "scattermap": [
           {
            "marker": {
             "colorbar": {
              "outlinewidth": 0,
              "ticks": ""
             }
            },
            "type": "scattermap"
           }
          ],
          "scattermapbox": [
           {
            "marker": {
             "colorbar": {
              "outlinewidth": 0,
              "ticks": ""
             }
            },
            "type": "scattermapbox"
           }
          ],
          "scatterpolar": [
           {
            "marker": {
             "colorbar": {
              "outlinewidth": 0,
              "ticks": ""
             }
            },
            "type": "scatterpolar"
           }
          ],
          "scatterpolargl": [
           {
            "marker": {
             "colorbar": {
              "outlinewidth": 0,
              "ticks": ""
             }
            },
            "type": "scatterpolargl"
           }
          ],
          "scatterternary": [
           {
            "marker": {
             "colorbar": {
              "outlinewidth": 0,
              "ticks": ""
             }
            },
            "type": "scatterternary"
           }
          ],
          "surface": [
           {
            "colorbar": {
             "outlinewidth": 0,
             "ticks": ""
            },
            "colorscale": [
             [
              0,
              "#0d0887"
             ],
             [
              0.1111111111111111,
              "#46039f"
             ],
             [
              0.2222222222222222,
              "#7201a8"
             ],
             [
              0.3333333333333333,
              "#9c179e"
             ],
             [
              0.4444444444444444,
              "#bd3786"
             ],
             [
              0.5555555555555556,
              "#d8576b"
             ],
             [
              0.6666666666666666,
              "#ed7953"
             ],
             [
              0.7777777777777778,
              "#fb9f3a"
             ],
             [
              0.8888888888888888,
              "#fdca26"
             ],
             [
              1,
              "#f0f921"
             ]
            ],
            "type": "surface"
           }
          ],
          "table": [
           {
            "cells": {
             "fill": {
              "color": "#EBF0F8"
             },
             "line": {
              "color": "white"
             }
            },
            "header": {
             "fill": {
              "color": "#C8D4E3"
             },
             "line": {
              "color": "white"
             }
            },
            "type": "table"
           }
          ]
         },
         "layout": {
          "annotationdefaults": {
           "arrowcolor": "#2a3f5f",
           "arrowhead": 0,
           "arrowwidth": 1
          },
          "autotypenumbers": "strict",
          "coloraxis": {
           "colorbar": {
            "outlinewidth": 0,
            "ticks": ""
           }
          },
          "colorscale": {
           "diverging": [
            [
             0,
             "#8e0152"
            ],
            [
             0.1,
             "#c51b7d"
            ],
            [
             0.2,
             "#de77ae"
            ],
            [
             0.3,
             "#f1b6da"
            ],
            [
             0.4,
             "#fde0ef"
            ],
            [
             0.5,
             "#f7f7f7"
            ],
            [
             0.6,
             "#e6f5d0"
            ],
            [
             0.7,
             "#b8e186"
            ],
            [
             0.8,
             "#7fbc41"
            ],
            [
             0.9,
             "#4d9221"
            ],
            [
             1,
             "#276419"
            ]
           ],
           "sequential": [
            [
             0,
             "#0d0887"
            ],
            [
             0.1111111111111111,
             "#46039f"
            ],
            [
             0.2222222222222222,
             "#7201a8"
            ],
            [
             0.3333333333333333,
             "#9c179e"
            ],
            [
             0.4444444444444444,
             "#bd3786"
            ],
            [
             0.5555555555555556,
             "#d8576b"
            ],
            [
             0.6666666666666666,
             "#ed7953"
            ],
            [
             0.7777777777777778,
             "#fb9f3a"
            ],
            [
             0.8888888888888888,
             "#fdca26"
            ],
            [
             1,
             "#f0f921"
            ]
           ],
           "sequentialminus": [
            [
             0,
             "#0d0887"
            ],
            [
             0.1111111111111111,
             "#46039f"
            ],
            [
             0.2222222222222222,
             "#7201a8"
            ],
            [
             0.3333333333333333,
             "#9c179e"
            ],
            [
             0.4444444444444444,
             "#bd3786"
            ],
            [
             0.5555555555555556,
             "#d8576b"
            ],
            [
             0.6666666666666666,
             "#ed7953"
            ],
            [
             0.7777777777777778,
             "#fb9f3a"
            ],
            [
             0.8888888888888888,
             "#fdca26"
            ],
            [
             1,
             "#f0f921"
            ]
           ]
          },
          "colorway": [
           "#636efa",
           "#EF553B",
           "#00cc96",
           "#ab63fa",
           "#FFA15A",
           "#19d3f3",
           "#FF6692",
           "#B6E880",
           "#FF97FF",
           "#FECB52"
          ],
          "font": {
           "color": "#2a3f5f"
          },
          "geo": {
           "bgcolor": "white",
           "lakecolor": "white",
           "landcolor": "#E5ECF6",
           "showlakes": true,
           "showland": true,
           "subunitcolor": "white"
          },
          "hoverlabel": {
           "align": "left"
          },
          "hovermode": "closest",
          "mapbox": {
           "style": "light"
          },
          "paper_bgcolor": "white",
          "plot_bgcolor": "#E5ECF6",
          "polar": {
           "angularaxis": {
            "gridcolor": "white",
            "linecolor": "white",
            "ticks": ""
           },
           "bgcolor": "#E5ECF6",
           "radialaxis": {
            "gridcolor": "white",
            "linecolor": "white",
            "ticks": ""
           }
          },
          "scene": {
           "xaxis": {
            "backgroundcolor": "#E5ECF6",
            "gridcolor": "white",
            "gridwidth": 2,
            "linecolor": "white",
            "showbackground": true,
            "ticks": "",
            "zerolinecolor": "white"
           },
           "yaxis": {
            "backgroundcolor": "#E5ECF6",
            "gridcolor": "white",
            "gridwidth": 2,
            "linecolor": "white",
            "showbackground": true,
            "ticks": "",
            "zerolinecolor": "white"
           },
           "zaxis": {
            "backgroundcolor": "#E5ECF6",
            "gridcolor": "white",
            "gridwidth": 2,
            "linecolor": "white",
            "showbackground": true,
            "ticks": "",
            "zerolinecolor": "white"
           }
          },
          "shapedefaults": {
           "line": {
            "color": "#2a3f5f"
           }
          },
          "ternary": {
           "aaxis": {
            "gridcolor": "white",
            "linecolor": "white",
            "ticks": ""
           },
           "baxis": {
            "gridcolor": "white",
            "linecolor": "white",
            "ticks": ""
           },
           "bgcolor": "#E5ECF6",
           "caxis": {
            "gridcolor": "white",
            "linecolor": "white",
            "ticks": ""
           }
          },
          "title": {
           "x": 0.05
          },
          "xaxis": {
           "automargin": true,
           "gridcolor": "white",
           "linecolor": "white",
           "ticks": "",
           "title": {
            "standoff": 15
           },
           "zerolinecolor": "white",
           "zerolinewidth": 2
          },
          "yaxis": {
           "automargin": true,
           "gridcolor": "white",
           "linecolor": "white",
           "ticks": "",
           "title": {
            "standoff": 15
           },
           "zerolinecolor": "white",
           "zerolinewidth": 2
          }
         }
        },
        "title": {
         "text": "<b>Distribution of Income_categorized in each group</b>",
         "x": 0.5
        }
       }
      }
     },
     "metadata": {},
     "output_type": "display_data"
    },
    {
     "name": "stdout",
     "output_type": "stream",
     "text": [
      "================== Income_categorized ==================\n",
      "       Group  Count      %\n",
      "0     Medium    542  26.98\n",
      "1  Very High    503  25.04\n",
      "2        Low    502  24.99\n",
      "3       High    462  23.00\n",
      "========================================\n",
      "\n",
      "LoyaltyPoints\n"
     ]
    },
    {
     "data": {
      "image/png": "[encoded data removed]",
      "text/plain": [
       "<Figure size 1600x700 with 3 Axes>"
      ]
     },
     "metadata": {},
     "output_type": "display_data"
    },
    {
     "name": "stdout",
     "output_type": "stream",
     "text": [
      "================== LoyaltyPoints ==================\n",
      "                             \n",
      "count                  2010.0\n",
      "mean              2520.113433\n",
      "std               1435.928358\n",
      "min                       1.0\n",
      "25%                    1287.0\n",
      "50%                    2527.5\n",
      "75%                    3752.0\n",
      "max                    4999.0\n",
      "shapiro               0.00000\n",
      "normal                  False\n",
      "missing                     0\n",
      "skew                  0.00677\n",
      "type     right(positive)-skew\n",
      "========================================\n",
      "تعداد مقادیر گمشده در LoyaltyPoints: 0\n"
     ]
    },
    {
     "data": {
      "application/vnd.plotly.v1+json": {
       "config": {
        "plotlyServerURL": "https://plot.ly"
       },
       "data": [
        {
         "customdata": [
          [
           "Medium"
          ],
          [
           "High"
          ],
          [
           "Low"
          ]
         ],
         "domain": {
          "x": [
           0,
           1
          ],
          "y": [
           0,
           1
          ]
         },
         "hole": 0.3,
         "hovertemplate": "Group=%{customdata[0]}<br>Count=%{value}<extra></extra>",
         "labels": [
          "Medium",
          "High",
          "Low"
         ],
         "legendgroup": "",
         "marker": {
          "colors": [
           "#636efa",
           "#EF553B",
           "#00cc96"
          ]
         },
         "name": "",
         "showlegend": true,
         "textinfo": "percent+label",
         "textposition": "inside",
         "type": "pie",
         "values": {
          "bdata": "ngKeAp0C",
          "dtype": "i2"
         }
        }
       ],
       "layout": {
        "font": {
         "family": "Arial, sans-serif",
         "size": 14
        },
        "legend": {
         "title": {
          "text": "Groups"
         },
         "tracegroupgap": 0
        },
        "template": {
         "data": {
          "bar": [
           {
            "error_x": {
             "color": "#2a3f5f"
            },
            "error_y": {
             "color": "#2a3f5f"
            },
            "marker": {
             "line": {
              "color": "#E5ECF6",
              "width": 0.5
             },
             "pattern": {
              "fillmode": "overlay",
              "size": 10,
              "solidity": 0.2
             }
            },
            "type": "bar"
           }
          ],
          "barpolar": [
           {
            "marker": {
             "line": {
              "color": "#E5ECF6",
              "width": 0.5
             },
             "pattern": {
              "fillmode": "overlay",
              "size": 10,
              "solidity": 0.2
             }
            },
            "type": "barpolar"
           }
          ],
          "carpet": [
           {
            "aaxis": {
             "endlinecolor": "#2a3f5f",
             "gridcolor": "white",
             "linecolor": "white",
             "minorgridcolor": "white",
             "startlinecolor": "#2a3f5f"
            },
            "baxis": {
             "endlinecolor": "#2a3f5f",
             "gridcolor": "white",
             "linecolor": "white",
             "minorgridcolor": "white",
             "startlinecolor": "#2a3f5f"
            },
            "type": "carpet"
           }
          ],
          "choropleth": [
           {
            "colorbar": {
             "outlinewidth": 0,
             "ticks": ""
            },
            "type": "choropleth"
           }
          ],
          "contour": [
           {
            "colorbar": {
             "outlinewidth": 0,
             "ticks": ""
            },
            "colorscale": [
             [
              0,
              "#0d0887"
             ],
             [
              0.1111111111111111,
              "#46039f"
             ],
             [
              0.2222222222222222,
              "#7201a8"
             ],
             [
              0.3333333333333333,
              "#9c179e"
             ],
             [
              0.4444444444444444,
              "#bd3786"
             ],
             [
              0.5555555555555556,
              "#d8576b"
             ],
             [
              0.6666666666666666,
              "#ed7953"
             ],
             [
              0.7777777777777778,
              "#fb9f3a"
             ],
             [
              0.8888888888888888,
              "#fdca26"
             ],
             [
              1,
              "#f0f921"
             ]
            ],
            "type": "contour"
           }
          ],
          "contourcarpet": [
           {
            "colorbar": {
             "outlinewidth": 0,
             "ticks": ""
            },
            "type": "contourcarpet"
           }
          ],
          "heatmap": [
           {
            "colorbar": {
             "outlinewidth": 0,
             "ticks": ""
            },
            "colorscale": [
             [
              0,
              "#0d0887"
             ],
             [
              0.1111111111111111,
              "#46039f"
             ],
             [
              0.2222222222222222,
              "#7201a8"
             ],
             [
              0.3333333333333333,
              "#9c179e"
             ],
             [
              0.4444444444444444,
              "#bd3786"
             ],
             [
              0.5555555555555556,
              "#d8576b"
             ],
             [
              0.6666666666666666,
              "#ed7953"
             ],
             [
              0.7777777777777778,
              "#fb9f3a"
             ],
             [
              0.8888888888888888,
              "#fdca26"
             ],
             [
              1,
              "#f0f921"
             ]
            ],
            "type": "heatmap"
           }
          ],
          "histogram": [
           {
            "marker": {
             "pattern": {
              "fillmode": "overlay",
              "size": 10,
              "solidity": 0.2
             }
            },
            "type": "histogram"
           }
          ],
          "histogram2d": [
           {
            "colorbar": {
             "outlinewidth": 0,
             "ticks": ""
            },
            "colorscale": [
             [
              0,
              "#0d0887"
             ],
             [
              0.1111111111111111,
              "#46039f"
             ],
             [
              0.2222222222222222,
              "#7201a8"
             ],
             [
              0.3333333333333333,
              "#9c179e"
             ],
             [
              0.4444444444444444,
              "#bd3786"
             ],
             [
              0.5555555555555556,
              "#d8576b"
             ],
             [
              0.6666666666666666,
              "#ed7953"
             ],
             [
              0.7777777777777778,
              "#fb9f3a"
             ],
             [
              0.8888888888888888,
              "#fdca26"
             ],
             [
              1,
              "#f0f921"
             ]
            ],
            "type": "histogram2d"
           }
          ],
          "histogram2dcontour": [
           {
            "colorbar": {
             "outlinewidth": 0,
             "ticks": ""
            },
            "colorscale": [
             [
              0,
              "#0d0887"
             ],
             [
              0.1111111111111111,
              "#46039f"
             ],
             [
              0.2222222222222222,
              "#7201a8"
             ],
             [
              0.3333333333333333,
              "#9c179e"
             ],
             [
              0.4444444444444444,
              "#bd3786"
             ],
             [
              0.5555555555555556,
              "#d8576b"
             ],
             [
              0.6666666666666666,
              "#ed7953"
             ],
             [
              0.7777777777777778,
              "#fb9f3a"
             ],
             [
              0.8888888888888888,
              "#fdca26"
             ],
             [
              1,
              "#f0f921"
             ]
            ],
            "type": "histogram2dcontour"
           }
          ],
          "mesh3d": [
           {
            "colorbar": {
             "outlinewidth": 0,
             "ticks": ""
            },
            "type": "mesh3d"
           }
          ],
          "parcoords": [
           {
            "line": {
             "colorbar": {
              "outlinewidth": 0,
              "ticks": ""
             }
            },
            "type": "parcoords"
           }
          ],
          "pie": [
           {
            "automargin": true,
            "type": "pie"
           }
          ],
          "scatter": [
           {
            "fillpattern": {
             "fillmode": "overlay",
             "size": 10,
             "solidity": 0.2
            },
            "type": "scatter"
           }
          ],
          "scatter3d": [
           {
            "line": {
             "colorbar": {
              "outlinewidth": 0,
              "ticks": ""
             }
            },
            "marker": {
             "colorbar": {
              "outlinewidth": 0,
              "ticks": ""
             }
            },
            "type": "scatter3d"
           }
          ],
          "scattercarpet": [
           {
            "marker": {
             "colorbar": {
              "outlinewidth": 0,
              "ticks": ""
             }
            },
            "type": "scattercarpet"
           }
          ],
          "scattergeo": [
           {
            "marker": {
             "colorbar": {
              "outlinewidth": 0,
              "ticks": ""
             }
            },
            "type": "scattergeo"
           }
          ],
          "scattergl": [
           {
            "marker": {
             "colorbar": {
              "outlinewidth": 0,
              "ticks": ""
             }
            },
            "type": "scattergl"
           }
          ],
          "scattermap": [
           {
            "marker": {
             "colorbar": {
              "outlinewidth": 0,
              "ticks": ""
             }
            },
            "type": "scattermap"
           }
          ],
          "scattermapbox": [
           {
            "marker": {
             "colorbar": {
              "outlinewidth": 0,
              "ticks": ""
             }
            },
            "type": "scattermapbox"
           }
          ],
          "scatterpolar": [
           {
            "marker": {
             "colorbar": {
              "outlinewidth": 0,
              "ticks": ""
             }
            },
            "type": "scatterpolar"
           }
          ],
          "scatterpolargl": [
           {
            "marker": {
             "colorbar": {
              "outlinewidth": 0,
              "ticks": ""
             }
            },
            "type": "scatterpolargl"
           }
          ],
          "scatterternary": [
           {
            "marker": {
             "colorbar": {
              "outlinewidth": 0,
              "ticks": ""
             }
            },
            "type": "scatterternary"
           }
          ],
          "surface": [
           {
            "colorbar": {
             "outlinewidth": 0,
             "ticks": ""
            },
            "colorscale": [
             [
              0,
              "#0d0887"
             ],
             [
              0.1111111111111111,
              "#46039f"
             ],
             [
              0.2222222222222222,
              "#7201a8"
             ],
             [
              0.3333333333333333,
              "#9c179e"
             ],
             [
              0.4444444444444444,
              "#bd3786"
             ],
             [
              0.5555555555555556,
              "#d8576b"
             ],
             [
              0.6666666666666666,
              "#ed7953"
             ],
             [
              0.7777777777777778,
              "#fb9f3a"
             ],
             [
              0.8888888888888888,
              "#fdca26"
             ],
             [
              1,
              "#f0f921"
             ]
            ],
            "type": "surface"
           }
          ],
          "table": [
           {
            "cells": {
             "fill": {
              "color": "#EBF0F8"
             },
             "line": {
              "color": "white"
             }
            },
            "header": {
             "fill": {
              "color": "#C8D4E3"
             },
             "line": {
              "color": "white"
             }
            },
            "type": "table"
           }
          ]
         },
         "layout": {
          "annotationdefaults": {
           "arrowcolor": "#2a3f5f",
           "arrowhead": 0,
           "arrowwidth": 1
          },
          "autotypenumbers": "strict",
          "coloraxis": {
           "colorbar": {
            "outlinewidth": 0,
            "ticks": ""
           }
          },
          "colorscale": {
           "diverging": [
            [
             0,
             "#8e0152"
            ],
            [
             0.1,
             "#c51b7d"
            ],
            [
             0.2,
             "#de77ae"
            ],
            [
             0.3,
             "#f1b6da"
            ],
            [
             0.4,
             "#fde0ef"
            ],
            [
             0.5,
             "#f7f7f7"
            ],
            [
             0.6,
             "#e6f5d0"
            ],
            [
             0.7,
             "#b8e186"
            ],
            [
             0.8,
             "#7fbc41"
            ],
            [
             0.9,
             "#4d9221"
            ],
            [
             1,
             "#276419"
            ]
           ],
           "sequential": [
            [
             0,
             "#0d0887"
            ],
            [
             0.1111111111111111,
             "#46039f"
            ],
            [
             0.2222222222222222,
             "#7201a8"
            ],
            [
             0.3333333333333333,
             "#9c179e"
            ],
            [
             0.4444444444444444,
             "#bd3786"
            ],
            [
             0.5555555555555556,
             "#d8576b"
            ],
            [
             0.6666666666666666,
             "#ed7953"
            ],
            [
             0.7777777777777778,
             "#fb9f3a"
            ],
            [
             0.8888888888888888,
             "#fdca26"
            ],
            [
             1,
             "#f0f921"
            ]
           ],
           "sequentialminus": [
            [
             0,
             "#0d0887"
            ],
            [
             0.1111111111111111,
             "#46039f"
            ],
            [
             0.2222222222222222,
             "#7201a8"
            ],
            [
             0.3333333333333333,
             "#9c179e"
            ],
            [
             0.4444444444444444,
             "#bd3786"
            ],
            [
             0.5555555555555556,
             "#d8576b"
            ],
            [
             0.6666666666666666,
             "#ed7953"
            ],
            [
             0.7777777777777778,
             "#fb9f3a"
            ],
            [
             0.8888888888888888,
             "#fdca26"
            ],
            [
             1,
             "#f0f921"
            ]
           ]
          },
          "colorway": [
           "#636efa",
           "#EF553B",
           "#00cc96",
           "#ab63fa",
           "#FFA15A",
           "#19d3f3",
           "#FF6692",
           "#B6E880",
           "#FF97FF",
           "#FECB52"
          ],
          "font": {
           "color": "#2a3f5f"
          },
          "geo": {
           "bgcolor": "white",
           "lakecolor": "white",
           "landcolor": "#E5ECF6",
           "showlakes": true,
           "showland": true,
           "subunitcolor": "white"
          },
          "hoverlabel": {
           "align": "left"
          },
          "hovermode": "closest",
          "mapbox": {
           "style": "light"
          },
          "paper_bgcolor": "white",
          "plot_bgcolor": "#E5ECF6",
          "polar": {
           "angularaxis": {
            "gridcolor": "white",
            "linecolor": "white",
            "ticks": ""
           },
           "bgcolor": "#E5ECF6",
           "radialaxis": {
            "gridcolor": "white",
            "linecolor": "white",
            "ticks": ""
           }
          },
          "scene": {
           "xaxis": {
            "backgroundcolor": "#E5ECF6",
            "gridcolor": "white",
            "gridwidth": 2,
            "linecolor": "white",
            "showbackground": true,
            "ticks": "",
            "zerolinecolor": "white"
           },
           "yaxis": {
            "backgroundcolor": "#E5ECF6",
            "gridcolor": "white",
            "gridwidth": 2,
            "linecolor": "white",
            "showbackground": true,
            "ticks": "",
            "zerolinecolor": "white"
           },
           "zaxis": {
            "backgroundcolor": "#E5ECF6",
            "gridcolor": "white",
            "gridwidth": 2,
            "linecolor": "white",
            "showbackground": true,
            "ticks": "",
            "zerolinecolor": "white"
           }
          },
          "shapedefaults": {
           "line": {
            "color": "#2a3f5f"
           }
          },
          "ternary": {
           "aaxis": {
            "gridcolor": "white",
            "linecolor": "white",
            "ticks": ""
           },
           "baxis": {
            "gridcolor": "white",
            "linecolor": "white",
            "ticks": ""
           },
           "bgcolor": "#E5ECF6",
           "caxis": {
            "gridcolor": "white",
            "linecolor": "white",
            "ticks": ""
           }
          },
          "title": {
           "x": 0.05
          },
          "xaxis": {
           "automargin": true,
           "gridcolor": "white",
           "linecolor": "white",
           "ticks": "",
           "title": {
            "standoff": 15
           },
           "zerolinecolor": "white",
           "zerolinewidth": 2
          },
          "yaxis": {
           "automargin": true,
           "gridcolor": "white",
           "linecolor": "white",
           "ticks": "",
           "title": {
            "standoff": 15
           },
           "zerolinecolor": "white",
           "zerolinewidth": 2
          }
         }
        },
        "title": {
         "text": "<b>Distribution of LoyaltyPoints_categorized in each group</b>",
         "x": 0.5
        }
       }
      }
     },
     "metadata": {},
     "output_type": "display_data"
    },
    {
     "name": "stdout",
     "output_type": "stream",
     "text": [
      "================== LoyaltyPoints_categorized ==================\n",
      "    Group  Count      %\n",
      "0  Medium    670  33.35\n",
      "1    High    670  33.35\n",
      "2     Low    669  33.30\n",
      "========================================\n"
     ]
    }
   ],
   "source": [
    "# 1. Age (عددی)\n",
    "print(\"\\nAge\")\n",
    "describe_numerical_col(df, 'Age')\n",
    "\n",
    "bins = [18, 30, 45, 60, 70]\n",
    "bin_labels = ['Young', 'Adult', 'Middle-Aged', 'Old']\n",
    "categorize_numerical_col('Age', bins=bins, bins_name=bin_labels)\n",
    "describe_categorical_col(df, 'Age_categorized')\n",
    "# بررسی مقادیر گمشده\n",
    "print(f\"تعداد مقادیر گمشده در Age: {df['Age'].isna().sum()}\")\n",
    "# اگر گمشده وجود داشت، با میانه پر می‌کنیم\n",
    "if df['Age'].isna().sum() > 0:\n",
    "    df['Age'].fillna(df['Age'].median(), inplace=True)\n",
    "    print(\"مقادیر گمشده در Age با میانه پر شدند.\")\n",
    "\n",
    "# 2. Gender (کیفی)\n",
    "print(\"\\nGender\")\n",
    "describe_categorical_col(df, 'Gender')\n",
    "# بررسی مقادیر گمشده\n",
    "print(f\"تعداد مقادیر گمشده در Gender: {df['Gender'].isna().sum()}\")\n",
    "# اگر گمشده وجود داشت، با mode پر می‌کنیم\n",
    "if df['Gender'].isna().sum() > 0:\n",
    "    df['Gender'].fillna(df['Gender'].mode()[0], inplace=True)\n",
    "    print(\"مقادیر گمشده در Gender با mode پر شدند.\")\n",
    "# بررسی مقادیر غیرمنتظره (مثلاً typo)\n",
    "print(\"مقادیر یکتا در Gender:\", df['Gender'].unique())\n",
    "# اگر مقادیر غیرمنتظره (مثل 'male' و 'Male') وجود داشت، اصلاح کنیم\n",
    "df['Gender'] = df['Gender'].str.capitalize()\n",
    "describe_categorical_col(df, 'Gender')\n",
    "\n",
    "# 3. Income (عددی)\n",
    "print(\"\\nIncome\")\n",
    "# بررسی مقادیر گمشده\n",
    "print(f\"تعداد مقادیر گمشده در Income: {df['Income'].isna().sum()}\")\n",
    "# پر کردن مقادیر گمشده با میانه (به دلیل skew)\n",
    "if df['Income'].isna().sum() > 0:\n",
    "    df['Income'].fillna(df['Income'].median(), inplace=True)\n",
    "    print(\"مقادیر گمشده در Income با میانه پر شدند.\")\n",
    "describe_numerical_col(df, 'Income')\n",
    "# دسته‌بندی درآمدی\n",
    "bins = pd.qcut(df['Income'], q=4, duplicates='drop', retbins=True)[1]\n",
    "bin_labels = ['Low', 'Medium', 'High', 'Very High']\n",
    "categorize_numerical_col('Income', bins=bins, bins_name=bin_labels)\n",
    "describe_categorical_col(df, 'Income_categorized')\n",
    "\n",
    "# 4. LoyaltyPoints (عددی)\n",
    "print(\"\\nLoyaltyPoints\")\n",
    "describe_numerical_col(df, 'LoyaltyPoints')\n",
    "# بررسی مقادیر گمشده\n",
    "print(f\"تعداد مقادیر گمشده در LoyaltyPoints: {df['LoyaltyPoints'].isna().sum()}\")\n",
    "# اگر گمشده وجود داشت، با میانه پر می‌کنیم\n",
    "if df['LoyaltyPoints'].isna().sum() > 0:\n",
    "    df['LoyaltyPoints'].fillna(df['LoyaltyPoints'].median(), inplace=True)\n",
    "    print(\"مقادیر گمشده در LoyaltyPoints با میانه پر شدند.\")\n",
    "# دسته‌بندی نقاط وفاداری\n",
    "bins = pd.qcut(df['LoyaltyPoints'], q=3, duplicates='drop', retbins=True)[1]\n",
    "bin_labels = ['Low', 'Medium', 'High']\n",
    "categorize_numerical_col('LoyaltyPoints', bins=bins, bins_name=bin_labels)\n",
    "describe_categorical_col(df, 'LoyaltyPoints_categorized')"
   ]
  },
  {
   "cell_type": "markdown",
   "id": "c8a5208e",
   "metadata": {},
   "source": [
    "تحلیل دو متغیره"
   ]
  },
  {
   "cell_type": "code",
   "execution_count": 11,
   "id": "b9939bec",
   "metadata": {},
   "outputs": [
    {
     "name": "stdout",
     "output_type": "stream",
     "text": [
      "\n",
      "1. Age vs Conversion\n"
     ]
    },
    {
     "data": {
      "image/png": "[encoded data removed]",
      "text/plain": [
       "<Figure size 1400x600 with 2 Axes>"
      ]
     },
     "metadata": {},
     "output_type": "display_data"
    },
    {
     "name": "stdout",
     "output_type": "stream",
     "text": [
      "=============== Age vs Conversion ===============\n",
      "                                \n",
      "shapiro_p_col1           0.00000\n",
      "shapiro_p_col2           0.00000\n",
      "col1_normal                False\n",
      "col2_normal                False\n",
      "test_used               Spearman\n",
      "correlation              0.00203\n",
      "r_squared                0.00000\n",
      "p_value                  0.92753\n",
      "significant                False\n",
      "relationship_strength       weak\n",
      "relationship_direction  positive\n",
      "==================================================\n",
      "================================================\n",
      "{\n",
      "   \"test type\": \"two-independent\",\n",
      "   \"test\": \"Man-Whitney-U\",\n",
      "   \"statistic\": 219266.5,\n",
      "   \"p-value\": 0.9275457449394919,\n",
      "   \"decision\": \"Failed\"\n",
      "}\n",
      "========================================\n",
      "\n",
      "2. Gender vs Conversion\n"
     ]
    },
    {
     "data": {
      "image/png": "[encoded data removed]",
      "text/plain": [
       "<Figure size 1400x1000 with 4 Axes>"
      ]
     },
     "metadata": {},
     "output_type": "display_data"
    },
    {
     "name": "stdout",
     "output_type": "stream",
     "text": [
      "================================================\n",
      "{\n",
      "   \"categories vs target\": \"vs-target\",\n",
      "   \"chi2_stat\": 0.2505730608417282,\n",
      "   \"p_value\": 0.616671856477215,\n",
      "   \"degrees_of_freedom\": 1,\n",
      "   \"contingency_table\": {\n",
      "      \"0\": {\n",
      "         \"Female\": 155,\n",
      "         \"Male\": 93\n",
      "      },\n",
      "      \"1\": {\n",
      "         \"Female\": 1068,\n",
      "         \"Male\": 694\n",
      "      }\n",
      "   }\n",
      "}\n",
      "========================================\n",
      "\n",
      "3. Income vs Conversion\n"
     ]
    },
    {
     "data": {
      "image/png": "[encoded data removed]",
      "text/plain": [
       "<Figure size 1400x600 with 2 Axes>"
      ]
     },
     "metadata": {},
     "output_type": "display_data"
    },
    {
     "name": "stdout",
     "output_type": "stream",
     "text": [
      "=============== Income vs Conversion ===============\n",
      "                                \n",
      "shapiro_p_col1           0.00000\n",
      "shapiro_p_col2           0.00000\n",
      "col1_normal                False\n",
      "col2_normal                False\n",
      "test_used               Spearman\n",
      "correlation              0.00426\n",
      "r_squared                0.00002\n",
      "p_value                  0.84876\n",
      "significant                False\n",
      "relationship_strength       weak\n",
      "relationship_direction  positive\n",
      "==================================================\n",
      "================================================\n",
      "{\n",
      "   \"test type\": \"two-independent\",\n",
      "   \"test\": \"Man-Whitney-U\",\n",
      "   \"statistic\": 220120.5,\n",
      "   \"p-value\": 0.8487472386793408,\n",
      "   \"decision\": \"Failed\"\n",
      "}\n",
      "========================================\n",
      "\n",
      "4. LoyaltyPoints vs Conversion\n"
     ]
    },
    {
     "data": {
      "image/png": "[encoded data removed]",
      "text/plain": [
       "<Figure size 1400x600 with 2 Axes>"
      ]
     },
     "metadata": {},
     "output_type": "display_data"
    },
    {
     "name": "stdout",
     "output_type": "stream",
     "text": [
      "=============== LoyaltyPoints vs Conversion ===============\n",
      "                                \n",
      "shapiro_p_col1           0.00000\n",
      "shapiro_p_col2           0.00000\n",
      "col1_normal                False\n",
      "col2_normal                False\n",
      "test_used               Spearman\n",
      "correlation              0.11451\n",
      "r_squared                0.01311\n",
      "p_value                  0.00000\n",
      "significant                 True\n",
      "relationship_strength       weak\n",
      "relationship_direction  positive\n",
      "==================================================\n",
      "================================================\n",
      "{\n",
      "   \"test type\": \"two-independent\",\n",
      "   \"test\": \"Man-Whitney-U\",\n",
      "   \"statistic\": 262410.5,\n",
      "   \"p-value\": 2.8575677741915065e-07,\n",
      "   \"decision\": \"Rejected\"\n",
      "}\n",
      "========================================\n"
     ]
    }
   ],
   "source": [
    "print(\"\\n1. Age vs Conversion\")\n",
    "describe_target_relationship(df, 'Age', 'Conversion')\n",
    "# تست آماری\n",
    "data_group1 = df[df['Conversion'] == 1]['Age'].values\n",
    "data_group2 = df[df['Conversion'] == 0]['Age'].values\n",
    "if len(data_group2) > 0:  # اگر داده برای Conversion=0 وجود داشت\n",
    "    numeric_nonparm_test(\"two-independent\", data_group1, data_group2)\n",
    "else:\n",
    "    print(\"تحلیل Age vs Conversion ممکن نیست چون همه Conversion=1 هستند.\")\n",
    "\n",
    "print(\"\\n2. Gender vs Conversion\")\n",
    "describe_cat_cat_relationship(df, 'Gender', 'Conversion')\n",
    "categorical_tests('vs-target', df, 'Gender', 'Conversion')\n",
    "\n",
    "\n",
    "print(\"\\n3. Income vs Conversion\")\n",
    "describe_target_relationship(df, 'Income', 'Conversion')\n",
    "# تست آماری\n",
    "data_group1 = df[df['Conversion'] == 1]['Income'].values\n",
    "data_group2 = df[df['Conversion'] == 0]['Income'].values\n",
    "if len(data_group2) > 0:\n",
    "    numeric_nonparm_test(\"two-independent\", data_group1, data_group2)\n",
    "else:\n",
    "    print(\"تحلیل Income vs Conversion ممکن نیست چون همه Conversion=1 هستند.\")\n",
    "\n",
    "\n",
    "print(\"\\n4. LoyaltyPoints vs Conversion\")\n",
    "describe_target_relationship(df, 'LoyaltyPoints', 'Conversion')\n",
    "# تست آماری\n",
    "data_group1 = df[df['Conversion'] == 1]['LoyaltyPoints'].values\n",
    "data_group2 = df[df['Conversion'] == 0]['LoyaltyPoints'].values\n",
    "if len(data_group2) > 0:\n",
    "    numeric_nonparm_test(\"two-independent\", data_group1, data_group2)\n",
    "else:\n",
    "    print(\"تحلیل LoyaltyPoints vs Conversion ممکن نیست چون همه Conversion=1 هستند.\")"
   ]
  },
  {
   "cell_type": "markdown",
   "id": "443f9d59",
   "metadata": {},
   "source": [
    "# تحلیل‌های اضافی بین متغیرها"
   ]
  },
  {
   "cell_type": "code",
   "execution_count": 12,
   "id": "fad6a6db",
   "metadata": {},
   "outputs": [
    {
     "name": "stdout",
     "output_type": "stream",
     "text": [
      "\n",
      "<h3>Age vs Income</h3>\n"
     ]
    },
    {
     "data": {
      "image/png": "[encoded data removed]",
      "text/plain": [
       "<Figure size 1400x600 with 2 Axes>"
      ]
     },
     "metadata": {},
     "output_type": "display_data"
    },
    {
     "name": "stdout",
     "output_type": "stream",
     "text": [
      "=============== Age vs Income ===============\n",
      "                                \n",
      "shapiro_p_col1           0.00000\n",
      "shapiro_p_col2           0.00000\n",
      "col1_normal                False\n",
      "col2_normal                False\n",
      "test_used               Spearman\n",
      "correlation             -0.00467\n",
      "r_squared                0.00002\n",
      "p_value                  0.83429\n",
      "significant                False\n",
      "relationship_strength       weak\n",
      "relationship_direction  negative\n",
      "==================================================\n",
      "\n",
      "<h3>Gender vs Income</h3>\n"
     ]
    },
    {
     "data": {
      "image/png": "[encoded data removed]",
      "text/plain": [
       "<Figure size 1400x1000 with 4 Axes>"
      ]
     },
     "metadata": {},
     "output_type": "display_data"
    },
    {
     "name": "stdout",
     "output_type": "stream",
     "text": [
      "\n",
      "<h3>Gender vs LoyaltyPoints</h3>\n"
     ]
    },
    {
     "data": {
      "image/png": "[encoded data removed]",
      "text/plain": [
       "<Figure size 1400x1000 with 4 Axes>"
      ]
     },
     "metadata": {},
     "output_type": "display_data"
    }
   ],
   "source": [
    "print(\"\\n<h3>Age vs Income</h3>\")\n",
    "describe_num_num_relationship(df, 'Age', 'Income')\n",
    "\n",
    "print(\"\\n<h3>Gender vs Income</h3>\")\n",
    "describe_cat_num_relationship(df, 'Gender', 'Income')\n",
    "\n",
    "print(\"\\n<h3>Gender vs LoyaltyPoints</h3>\")\n",
    "describe_cat_num_relationship(df, 'Gender', 'LoyaltyPoints')"
   ]
  }
 ],
 "metadata": {
  "kernelspec": {
   "display_name": "Python 3",
   "language": "python",
   "name": "python3"
  },
  "language_info": {
   "codemirror_mode": {
    "name": "ipython",
    "version": 3
   },
   "file_extension": ".py",
   "mimetype": "text/x-python",
   "name": "python",
   "nbconvert_exporter": "python",
   "pygments_lexer": "ipython3",
   "version": "3.11.9"
  }
 },
 "nbformat": 4,
 "nbformat_minor": 5
}
