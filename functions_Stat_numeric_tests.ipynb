{
  "cells": [
    {
      "cell_type": "code",
      "execution_count": null,
      "id": "ac65b58f",
      "metadata": {
        "id": "ac65b58f"
      },
      "outputs": [],
      "source": [
        "import pandas as pd\n",
        "import numpy as np\n",
        "import matplotlib.pyplot as plt\n",
        "import seaborn as sns\n",
        "import plotly.express as px\n",
        "import scipy.stats as stats\n",
        "import json\n",
        "import warnings\n",
        "\n",
        "warnings.filterwarnings('ignore')\n",
        "sns.set_theme(style=\"darkgrid\")"
      ]
    },
    {
      "cell_type": "code",
      "source": [
        "from google.colab import drive\n",
        "drive.mount('/content/drive')"
      ],
      "metadata": {
        "colab": {
          "base_uri": "https://localhost:8080/"
        },
        "id": "uIqKiV5MM20-",
        "outputId": "71794df7-01b8-4af5-8c1e-c7f4fed5d9cb"
      },
      "id": "uIqKiV5MM20-",
      "execution_count": null,
      "outputs": [
        {
          "output_type": "stream",
          "name": "stdout",
          "text": [
            "Mounted at /content/drive\n"
          ]
        }
      ]
    },
    {
      "cell_type": "code",
      "execution_count": null,
      "id": "4ac17472",
      "metadata": {
        "id": "4ac17472"
      },
      "outputs": [],
      "source": [
        "df = pd.read_csv('/content/drive/MyDrive/initial/notebook/marketing.csv')"
      ]
    },
    {
      "cell_type": "code",
      "execution_count": null,
      "id": "72bf7e0a",
      "metadata": {
        "colab": {
          "base_uri": "https://localhost:8080/"
        },
        "id": "72bf7e0a",
        "outputId": "5cdef1ff-a766-454e-ca12-996de85e29be"
      },
      "outputs": [
        {
          "output_type": "stream",
          "name": "stdout",
          "text": [
            "<class 'pandas.core.frame.DataFrame'>\n",
            "RangeIndex: 2010 entries, 0 to 2009\n",
            "Data columns (total 20 columns):\n",
            " #   Column               Non-Null Count  Dtype  \n",
            "---  ------               --------------  -----  \n",
            " 0   CustomerID           2010 non-null   int64  \n",
            " 1   Age                  2010 non-null   int64  \n",
            " 2   Gender               2010 non-null   object \n",
            " 3   Income               1931 non-null   float64\n",
            " 4   CampaignChannel      1856 non-null   object \n",
            " 5   CampaignType         2010 non-null   object \n",
            " 6   AdSpend              2010 non-null   object \n",
            " 7   ClickThroughRate     2010 non-null   float64\n",
            " 8   ConversionRate       2010 non-null   float64\n",
            " 9   WebsiteVisits        2010 non-null   int64  \n",
            " 10  PagesPerVisit        2010 non-null   float64\n",
            " 11  TimeOnSite           1931 non-null   float64\n",
            " 12  SocialShares         2010 non-null   int64  \n",
            " 13  EmailOpens           2010 non-null   int64  \n",
            " 14  EmailClicks          2010 non-null   int64  \n",
            " 15  PreviousPurchases    2010 non-null   int64  \n",
            " 16  LoyaltyPoints        2010 non-null   int64  \n",
            " 17  AdvertisingPlatform  2010 non-null   object \n",
            " 18  AdvertisingTool      2010 non-null   object \n",
            " 19  Conversion           2010 non-null   int64  \n",
            "dtypes: float64(5), int64(9), object(6)\n",
            "memory usage: 314.2+ KB\n"
          ]
        }
      ],
      "source": [
        "df.info()"
      ]
    },
    {
      "cell_type": "markdown",
      "source": [
        "<H1>Statistics"
      ],
      "metadata": {
        "id": "1WmPOSPmm3ah"
      },
      "id": "1WmPOSPmm3ah"
    },
    {
      "cell_type": "code",
      "source": [
        "#non_prarametric\n",
        "\n",
        "def numeric_nonparm_test(test_type=\"one-sample\", *groups, alpha=0.05):\n",
        "    result = {\"test type\":test_type, \"test\": None, \"statistic\": None, \"p-value\": None, \"decision\": None}\n",
        "    stat, p_value = 0, 0\n",
        "    if test_type == \"one-sample\":\n",
        "        data = np.array(groups[0])\n",
        "        stat, p_value = stats.wilcoxon(data - np.median(data))\n",
        "        result[\"test\"] = \"Wilcoxon\"\n",
        "\n",
        "    elif test_type == \"two-independent\":\n",
        "        if len(groups) != 2:\n",
        "            raise ValueError(\"this is only for two groups!\")\n",
        "        group1, group2 = groups\n",
        "        stat, p_value = stats.mannwhitneyu(group1, group2, alternative=\"two-sided\")\n",
        "        result[\"test\"] = \"Man-Whitney-U\"\n",
        "\n",
        "    elif test_type == \"multi-independent\":\n",
        "        if len(groups) < 2:\n",
        "            raise ValueError(\"this is for more than two groups!\")\n",
        "        stat, p_value = stats.kruskal(*groups)\n",
        "        result[\"test\"] = \"Kruskal\"\n",
        "\n",
        "    elif test_type == \"variance-test\":\n",
        "        if len(groups) < 2:\n",
        "            raise ValueError(\"this is for more than two groups!\")\n",
        "        stat, p_value = stats.friedmanchisquare(*groups)\n",
        "        result[\"test\"] = \"Friedman\"\n",
        "\n",
        "    result[\"statistic\"] = stat\n",
        "    result[\"p-value\"] = p_value\n",
        "\n",
        "    if p_value < alpha:\n",
        "      result[\"decision\"] = \"Rejected\"\n",
        "    else:\n",
        "      result[\"decision\"] = \"Failed\"\n",
        "\n",
        "    print('='*48)\n",
        "    print(json.dumps(result, indent=3, sort_keys=False, default=str)) # using json.dumps for prettier printing\n",
        "    print('='*40)"
      ],
      "metadata": {
        "id": "FL4C8thGm905"
      },
      "id": "FL4C8thGm905",
      "execution_count": null,
      "outputs": []
    },
    {
      "cell_type": "code",
      "source": [
        "data = df[\"Age\"].values\n",
        "numeric_nonparm_test(\"one-sample\", data)"
      ],
      "metadata": {
        "colab": {
          "base_uri": "https://localhost:8080/"
        },
        "id": "r9IX40pCrtDf",
        "outputId": "36271514-1fa7-4674-b6bd-106614f444cf"
      },
      "id": "r9IX40pCrtDf",
      "execution_count": null,
      "outputs": [
        {
          "output_type": "stream",
          "name": "stdout",
          "text": [
            "================================================\n",
            "{\n",
            "   \"test type\": \"one-sample\",\n",
            "   \"test\": \"Wilcoxon\",\n",
            "   \"statistic\": 955122.5,\n",
            "   \"p-value\": 0.9721126195922359,\n",
            "   \"decision\": \"Failed\"\n",
            "}\n",
            "========================================\n"
          ]
        }
      ]
    },
    {
      "cell_type": "code",
      "source": [
        "data_group1 = df[df[\"Conversion\"] == 1][\"Age\"].values\n",
        "data_group2 = df[df[\"Conversion\"] == 0][\"Age\"].values\n",
        "\n",
        "numeric_nonparm_test(\"two-independent\", data_group1, data_group2)"
      ],
      "metadata": {
        "colab": {
          "base_uri": "https://localhost:8080/"
        },
        "id": "NAqvn0l_Op2f",
        "outputId": "3331c0e7-1b16-44c5-e3b3-c37f336b09ef"
      },
      "id": "NAqvn0l_Op2f",
      "execution_count": null,
      "outputs": [
        {
          "output_type": "stream",
          "name": "stdout",
          "text": [
            "================================================\n",
            "{\n",
            "   \"test type\": \"two-independent\",\n",
            "   \"test\": \"Man-Whitney-U\",\n",
            "   \"statistic\": 219266.5,\n",
            "   \"p-value\": 0.9275457449394919,\n",
            "   \"decision\": \"Failed\"\n",
            "}\n",
            "========================================\n"
          ]
        }
      ]
    },
    {
      "cell_type": "markdown",
      "source": [
        "also added multiple if we need it\n",
        "\n",
        "\"multi-independent\"  or   \"variance-test\" for the test_type"
      ],
      "metadata": {
        "id": "wxLsjTPbVg_Z"
      },
      "id": "wxLsjTPbVg_Z"
    },
    {
      "cell_type": "code",
      "source": [
        "#parametric\n",
        "def numeric_parametric_test(test_type=\"one-sample\", *groups, alpha=0.05):\n",
        "    result = {\"test type\":test_type, \"test\": None, \"statistic\": None, \"p-value\": None, \"decision\": None}\n",
        "    stat, p_value = 0, 0\n",
        "    if test_type == \"one-sample\":\n",
        "        data = np.array(groups[0])\n",
        "        stat, p_value = stats.ttest_1samp(data, np.mean(data))\n",
        "        result[\"test\"] = \"Ttest\"\n",
        "\n",
        "    elif test_type == \"two-independent\":\n",
        "        if len(groups) != 2:\n",
        "            raise ValueError(\"this is only for two groups!\")\n",
        "        group1, group2 = groups\n",
        "        stat, p_value = stats.ttest_ind(group1, group2, equal_var=True)\n",
        "        result[\"test\"] = \"Ttest\"\n",
        "\n",
        "    elif test_type == \"paired\":\n",
        "        if len(groups) != 2:\n",
        "            raise ValueError(\"this is only for two groups!\")\n",
        "        group1, group2 = groups\n",
        "        stat, p_value = stats.ttest_rel(group1, group1)\n",
        "        result[\"test\"] = \"Ttest\"\n",
        "\n",
        "    elif test_type == \"non-equal-var\":\n",
        "        if len(groups) != 2:\n",
        "            raise ValueError(\"this is only for two groups!\")\n",
        "        group1, group2 = groups\n",
        "        stat, p_value = stats.ttest_ind(group1, group2, equal_var=False)\n",
        "        result[\"test\"] = \"Welch\"\n",
        "\n",
        "    elif test_type == \"multi-independent\":\n",
        "        if len(groups) < 2:\n",
        "            raise ValueError(\"this is for more than two groups!\")\n",
        "        stat, p_value = stats.f_oneway(*groups)\n",
        "        result[\"test\"] = \"One-Way ANOVA\"\n",
        "\n",
        "    result[\"statistic\"] = stat\n",
        "    result[\"p-value\"] = p_value\n",
        "\n",
        "    if p_value < alpha:\n",
        "      result[\"decision\"] = \"Rejected\"\n",
        "    else:\n",
        "      result[\"decision\"] = \"Failed\"\n",
        "\n",
        "    print('='*48)\n",
        "    print(json.dumps(result, indent=3, sort_keys=False, default=str)) # using json.dumps for prettier printing\n",
        "    print('='*40)"
      ],
      "metadata": {
        "id": "utah0AYqUPj1"
      },
      "id": "utah0AYqUPj1",
      "execution_count": null,
      "outputs": []
    },
    {
      "cell_type": "code",
      "source": [
        "data = df[\"Age\"].values\n",
        "numeric_parametric_test(\"one-sample\", data)"
      ],
      "metadata": {
        "colab": {
          "base_uri": "https://localhost:8080/"
        },
        "id": "HQ9UG1PEJlVg",
        "outputId": "3c483257-2db4-4e76-ca41-8a25205c03d2"
      },
      "id": "HQ9UG1PEJlVg",
      "execution_count": null,
      "outputs": [
        {
          "output_type": "stream",
          "name": "stdout",
          "text": [
            "================================================\n",
            "{\n",
            "   \"test type\": \"one-sample\",\n",
            "   \"test\": \"Ttest\",\n",
            "   \"statistic\": 0.0,\n",
            "   \"p-value\": 1.0,\n",
            "   \"decision\": \"Failed\"\n",
            "}\n",
            "========================================\n"
          ]
        }
      ]
    },
    {
      "cell_type": "code",
      "source": [
        "data_group1 = df[df[\"Conversion\"] == 1][\"Age\"].values\n",
        "data_group2 = df[df[\"Conversion\"] == 0][\"Age\"].values\n",
        "\n",
        "numeric_parametric_test(\"two-independent\", data_group1, data_group2)"
      ],
      "metadata": {
        "colab": {
          "base_uri": "https://localhost:8080/"
        },
        "id": "Bfi17zWANBkr",
        "outputId": "96703e58-276b-4538-f763-386ff21be33c"
      },
      "id": "Bfi17zWANBkr",
      "execution_count": null,
      "outputs": [
        {
          "output_type": "stream",
          "name": "stdout",
          "text": [
            "================================================\n",
            "{\n",
            "   \"test type\": \"two-independent\",\n",
            "   \"test\": \"Ttest\",\n",
            "   \"statistic\": 0.09012017542473374,\n",
            "   \"p-value\": 0.9282007047314531,\n",
            "   \"decision\": \"Failed\"\n",
            "}\n",
            "========================================\n"
          ]
        }
      ]
    },
    {
      "cell_type": "code",
      "source": [
        "before = df[\"TimeOnSite\"].values\n",
        "after  = df['CampaignChannel'].values  #Def check for NaN and SE before this function if needed or it will return p-value as nan\n",
        "\n",
        "numeric_parametric_test(\"paired\", before, after)"
      ],
      "metadata": {
        "colab": {
          "base_uri": "https://localhost:8080/"
        },
        "id": "SbOPA_euNxAs",
        "outputId": "2697cb9e-9efd-4a5b-d7e3-81a9779ff4db"
      },
      "id": "SbOPA_euNxAs",
      "execution_count": null,
      "outputs": [
        {
          "output_type": "stream",
          "name": "stdout",
          "text": [
            "================================================\n",
            "{\n",
            "   \"test type\": \"paired\",\n",
            "   \"test\": \"Ttest\",\n",
            "   \"statistic\": NaN,\n",
            "   \"p-value\": NaN,\n",
            "   \"decision\": \"Failed\"\n",
            "}\n",
            "========================================\n"
          ]
        }
      ]
    },
    {
      "cell_type": "code",
      "source": [
        "data_group1 = df[df[\"Conversion\"] == 1][\"Age\"].values\n",
        "data_group2 = df[df[\"Conversion\"] == 0][\"Age\"].values\n",
        "\n",
        "numeric_parametric_test(\"non-equal-var\", data_group1, data_group2)"
      ],
      "metadata": {
        "colab": {
          "base_uri": "https://localhost:8080/"
        },
        "id": "UKy3QuxeOC5e",
        "outputId": "c286d78b-c0a4-472e-910b-ed5c0df501ec"
      },
      "id": "UKy3QuxeOC5e",
      "execution_count": null,
      "outputs": [
        {
          "output_type": "stream",
          "name": "stdout",
          "text": [
            "================================================\n",
            "{\n",
            "   \"test type\": \"non-equal-var\",\n",
            "   \"test\": \"Welch\",\n",
            "   \"statistic\": 0.08777979604930926,\n",
            "   \"p-value\": 0.9301074137259193,\n",
            "   \"decision\": \"Failed\"\n",
            "}\n",
            "========================================\n"
          ]
        }
      ]
    },
    {
      "cell_type": "code",
      "source": [
        "df[\"CampaignType\"].unique()"
      ],
      "metadata": {
        "colab": {
          "base_uri": "https://localhost:8080/"
        },
        "id": "2in_kgmYS0En",
        "outputId": "2ea04abe-bece-45c2-b30d-32a395794d6b"
      },
      "id": "2in_kgmYS0En",
      "execution_count": null,
      "outputs": [
        {
          "output_type": "execute_result",
          "data": {
            "text/plain": [
              "array(['Consideration', 'Awareness', 'Retention', 'Conversion'],\n",
              "      dtype=object)"
            ]
          },
          "metadata": {},
          "execution_count": 21
        }
      ]
    },
    {
      "cell_type": "code",
      "source": [
        "group1 = df[df[\"CampaignType\"] == 'Consideration'][\"Age\"].values\n",
        "group2 = df[df[\"CampaignType\"] == 'Awareness'][\"Age\"].values\n",
        "group3 = df[df[\"CampaignType\"] == 'Retention'][\"Age\"].values\n",
        "groups=[group1, group2, group3]\n",
        "numeric_parametric_test(\"multi-independent\", *groups)"
      ],
      "metadata": {
        "colab": {
          "base_uri": "https://localhost:8080/"
        },
        "id": "MMPe5OW3Rs88",
        "outputId": "b66f9669-5e8d-49cd-daa0-9f16cebeeb02"
      },
      "id": "MMPe5OW3Rs88",
      "execution_count": null,
      "outputs": [
        {
          "output_type": "stream",
          "name": "stdout",
          "text": [
            "================================================\n",
            "{\n",
            "   \"test type\": \"multi-independent\",\n",
            "   \"test\": \"One-Way ANOVA\",\n",
            "   \"statistic\": 1.867051584635893,\n",
            "   \"p-value\": 0.1549456257893048,\n",
            "   \"decision\": \"Failed\"\n",
            "}\n",
            "========================================\n"
          ]
        }
      ]
    },
    {
      "cell_type": "code",
      "source": [],
      "metadata": {
        "id": "VU0sqZqPu1gJ"
      },
      "id": "VU0sqZqPu1gJ",
      "execution_count": null,
      "outputs": []
    }
  ],
  "metadata": {
    "kernelspec": {
      "display_name": "QBX",
      "language": "python",
      "name": "python3"
    },
    "language_info": {
      "codemirror_mode": {
        "name": "ipython",
        "version": 3
      },
      "file_extension": ".py",
      "mimetype": "text/x-python",
      "name": "python",
      "nbconvert_exporter": "python",
      "pygments_lexer": "ipython3",
      "version": "3.9.23"
    },
    "colab": {
      "provenance": []
    }
  },
  "nbformat": 4,
  "nbformat_minor": 5
}