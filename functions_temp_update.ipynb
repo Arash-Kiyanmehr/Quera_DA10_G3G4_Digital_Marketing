{
  "cells": [
    {
      "cell_type": "code",
      "execution_count": 3,
      "id": "ac65b58f",
      "metadata": {
        "id": "ac65b58f"
      },
      "outputs": [],
      "source": [
        "import pandas as pd\n",
        "import numpy as np\n",
        "import matplotlib.pyplot as plt\n",
        "import seaborn as sns\n",
        "import plotly.express as px\n",
        "import scipy.stats as stats\n",
        "import json\n",
        "import warnings\n",
        "\n",
        "warnings.filterwarnings('ignore')\n",
        "sns.set_theme(style=\"darkgrid\")"
      ]
    },
    {
      "cell_type": "code",
      "source": [
        "from google.colab import drive\n",
        "drive.mount('/content/drive')"
      ],
      "metadata": {
        "colab": {
          "base_uri": "https://localhost:8080/"
        },
        "id": "uIqKiV5MM20-",
        "outputId": "4046f458-d0cb-4fff-d7a3-c256b9e13a72"
      },
      "id": "uIqKiV5MM20-",
      "execution_count": 4,
      "outputs": [
        {
          "output_type": "stream",
          "name": "stdout",
          "text": [
            "Mounted at /content/drive\n"
          ]
        }
      ]
    },
    {
      "cell_type": "code",
      "execution_count": 5,
      "id": "4ac17472",
      "metadata": {
        "id": "4ac17472"
      },
      "outputs": [],
      "source": [
        "df = pd.read_csv('/content/drive/MyDrive/initial/notebook/marketing.csv')"
      ]
    },
    {
      "cell_type": "code",
      "execution_count": 6,
      "id": "72bf7e0a",
      "metadata": {
        "colab": {
          "base_uri": "https://localhost:8080/"
        },
        "id": "72bf7e0a",
        "outputId": "3bd5f155-aa89-47f7-9718-835b2a3c79d6"
      },
      "outputs": [
        {
          "output_type": "stream",
          "name": "stdout",
          "text": [
            "<class 'pandas.core.frame.DataFrame'>\n",
            "RangeIndex: 2010 entries, 0 to 2009\n",
            "Data columns (total 20 columns):\n",
            " #   Column               Non-Null Count  Dtype  \n",
            "---  ------               --------------  -----  \n",
            " 0   CustomerID           2010 non-null   int64  \n",
            " 1   Age                  2010 non-null   int64  \n",
            " 2   Gender               2010 non-null   object \n",
            " 3   Income               1931 non-null   float64\n",
            " 4   CampaignChannel      1856 non-null   object \n",
            " 5   CampaignType         2010 non-null   object \n",
            " 6   AdSpend              2010 non-null   object \n",
            " 7   ClickThroughRate     2010 non-null   float64\n",
            " 8   ConversionRate       2010 non-null   float64\n",
            " 9   WebsiteVisits        2010 non-null   int64  \n",
            " 10  PagesPerVisit        2010 non-null   float64\n",
            " 11  TimeOnSite           1931 non-null   float64\n",
            " 12  SocialShares         2010 non-null   int64  \n",
            " 13  EmailOpens           2010 non-null   int64  \n",
            " 14  EmailClicks          2010 non-null   int64  \n",
            " 15  PreviousPurchases    2010 non-null   int64  \n",
            " 16  LoyaltyPoints        2010 non-null   int64  \n",
            " 17  AdvertisingPlatform  2010 non-null   object \n",
            " 18  AdvertisingTool      2010 non-null   object \n",
            " 19  Conversion           2010 non-null   int64  \n",
            "dtypes: float64(5), int64(9), object(6)\n",
            "memory usage: 314.2+ KB\n"
          ]
        }
      ],
      "source": [
        "df.info()"
      ]
    },
    {
      "cell_type": "markdown",
      "source": [
        "<H1>Statistics"
      ],
      "metadata": {
        "id": "1WmPOSPmm3ah"
      },
      "id": "1WmPOSPmm3ah"
    },
    {
      "cell_type": "code",
      "source": [
        "def numeric_nonparm_test(test_type=\"one-sample\", *groups, alpha=0.05):\n",
        "    result = {\"test\": None, \"statistic\": None, \"p-value\": None, \"decision\": None}\n",
        "    stat, p_value = 0, 0\n",
        "    if test_type == \"one-sample\":\n",
        "        data = np.array(groups[0])\n",
        "        stat, p_value = stats.wilcoxon(data - np.median(data))\n",
        "        result[\"test\"] = \"Wilcoxon\"\n",
        "\n",
        "    elif test_type == \"two-independent\":\n",
        "        if len(groups) != 2:\n",
        "            raise ValueError(\"this is only for two groups!\")\n",
        "        group1, group2 = groups\n",
        "        stat, p_value = stats.mannwhitneyu(group1, group2, alternative=\"two-sided\")\n",
        "        result[\"test\"] = \"Man-Whitney-U\"\n",
        "\n",
        "    elif test_type == \"multi-independent\":\n",
        "        if len(groups) < 2:\n",
        "            raise ValueError(\"this is for more than two groups!\")\n",
        "        stat, p_value = stats.kruskal(*groups)\n",
        "        result[\"test\"] = \"Kruskal\"\n",
        "\n",
        "    elif test_type == \"variance-test\":\n",
        "        if len(groups) < 2:\n",
        "            raise ValueError(\"this is for more than two groups!\")\n",
        "        stat, p_value = stats.friedmanchisquare(*groups)\n",
        "        result[\"test\"] = \"Friedman\"\n",
        "\n",
        "    result[\"statistic\"] = stat\n",
        "    result[\"p-value\"] = p_value\n",
        "\n",
        "    if p_value < alpha:\n",
        "      result[\"decision\"] = \"Rejected\"\n",
        "    else:\n",
        "      result[\"decision\"] = \"Failed\"\n",
        "\n",
        "    print('='*48)\n",
        "    print(json.dumps(result, indent=3, sort_keys=False, default=str)) # using json.dumps for prettier printing\n",
        "    print('='*40)"
      ],
      "metadata": {
        "id": "FL4C8thGm905"
      },
      "id": "FL4C8thGm905",
      "execution_count": 31,
      "outputs": []
    },
    {
      "cell_type": "code",
      "source": [
        "data = df[\"Age\"].values\n",
        "numeric_nonparm_test(\"one-sample\", data)"
      ],
      "metadata": {
        "colab": {
          "base_uri": "https://localhost:8080/"
        },
        "id": "r9IX40pCrtDf",
        "outputId": "9a7e4e1d-dbcd-423d-b62c-2dd86e29e92c"
      },
      "id": "r9IX40pCrtDf",
      "execution_count": 35,
      "outputs": [
        {
          "output_type": "stream",
          "name": "stdout",
          "text": [
            "================================================\n",
            "{\n",
            "   \"test\": \"Wilcoxon\",\n",
            "   \"statistic\": 955122.5,\n",
            "   \"p-value\": 0.9721126195922359,\n",
            "   \"decision\": \"Failed\"\n",
            "}\n",
            "========================================\n"
          ]
        }
      ]
    },
    {
      "cell_type": "code",
      "source": [
        "data_group1 = df[df[\"Conversion\"] == 1][\"Age\"].values\n",
        "data_group2 = df[df[\"Conversion\"] == 0][\"Age\"].values\n",
        "\n",
        "numeric_nonparm_test(\"two-independent\", data_group1, data_group2)"
      ],
      "metadata": {
        "colab": {
          "base_uri": "https://localhost:8080/"
        },
        "id": "NAqvn0l_Op2f",
        "outputId": "68d67b1c-3edf-4893-c076-844e6cd2c601"
      },
      "id": "NAqvn0l_Op2f",
      "execution_count": 36,
      "outputs": [
        {
          "output_type": "stream",
          "name": "stdout",
          "text": [
            "================================================\n",
            "{\n",
            "   \"test\": \"Man-Whitney-U\",\n",
            "   \"statistic\": 219266.5,\n",
            "   \"p-value\": 0.9275457449394919,\n",
            "   \"decision\": \"Failed\"\n",
            "}\n",
            "========================================\n"
          ]
        }
      ]
    },
    {
      "cell_type": "markdown",
      "source": [
        "also added multiple if we need it\n",
        "\n",
        "\"multi-independent\"  or   \"variance-test\" for the test_type"
      ],
      "metadata": {
        "id": "wxLsjTPbVg_Z"
      },
      "id": "wxLsjTPbVg_Z"
    },
    {
      "cell_type": "code",
      "source": [],
      "metadata": {
        "id": "utah0AYqUPj1"
      },
      "id": "utah0AYqUPj1",
      "execution_count": null,
      "outputs": []
    }
  ],
  "metadata": {
    "kernelspec": {
      "display_name": "QBX",
      "language": "python",
      "name": "python3"
    },
    "language_info": {
      "codemirror_mode": {
        "name": "ipython",
        "version": 3
      },
      "file_extension": ".py",
      "mimetype": "text/x-python",
      "name": "python",
      "nbconvert_exporter": "python",
      "pygments_lexer": "ipython3",
      "version": "3.9.23"
    },
    "colab": {
      "provenance": []
    }
  },
  "nbformat": 4,
  "nbformat_minor": 5
}